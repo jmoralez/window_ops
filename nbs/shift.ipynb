{
 "cells": [
  {
   "cell_type": "raw",
   "metadata": {},
   "source": [
    "---\n",
    "description: Array shifting\n",
    "output-file: shift.html\n",
    "title: Shift\n",
    "---"
   ]
  },
  {
   "cell_type": "code",
   "execution_count": null,
   "metadata": {},
   "outputs": [],
   "source": [
    "#| default_exp shift"
   ]
  },
  {
   "cell_type": "code",
   "execution_count": null,
   "metadata": {},
   "outputs": [],
   "source": [
    "#| export\n",
    "from typing import Optional\n",
    "\n",
    "import numpy as np\n",
    "from numba import njit  # type: ignore\n",
    "\n",
    "from window_ops.utils import _get_out_arr"
   ]
  },
  {
   "cell_type": "code",
   "execution_count": null,
   "metadata": {},
   "outputs": [],
   "source": [
    "#| export\n",
    "@njit\n",
    "def shift_array(x: np.ndarray, offset: int, out: Optional[np.ndarray] = None) -> np.ndarray:\n",
    "    n_samples = x.size\n",
    "    out_arr = _get_out_arr(x, out)\n",
    "    for i in range(n_samples - offset):\n",
    "        out_arr[i + offset] = x[i]\n",
    "    return out_arr"
   ]
  },
  {
   "cell_type": "code",
   "execution_count": null,
   "metadata": {},
   "outputs": [],
   "source": [
    "import pandas as pd\n",
    "\n",
    "np.random.seed(0)\n",
    "array = np.random.rand(100)\n",
    "series = pd.Series(array)"
   ]
  },
  {
   "cell_type": "code",
   "execution_count": null,
   "metadata": {},
   "outputs": [],
   "source": [
    "np.testing.assert_allclose(\n",
    "    shift_array(array, 7),\n",
    "    series.shift(7)\n",
    ")"
   ]
  }
 ],
 "metadata": {
  "kernelspec": {
   "display_name": "Python 3",
   "language": "python",
   "name": "python3"
  }
 },
 "nbformat": 4,
 "nbformat_minor": 4
}
