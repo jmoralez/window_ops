{
 "cells": [
  {
   "cell_type": "raw",
   "metadata": {},
   "source": [
    "---\n",
    "description: Exponentially weighted functions\n",
    "output-file: ewm.html\n",
    "title: EWM\n",
    "\n",
    "---\n",
    "\n"
   ]
  },
  {
   "cell_type": "code",
   "execution_count": null,
   "metadata": {},
   "outputs": [],
   "source": [
    "#| default_exp ewm"
   ]
  },
  {
   "cell_type": "code",
   "execution_count": null,
   "metadata": {},
   "outputs": [],
   "source": [
    "#| include: false\n",
    "import random\n",
    "\n",
    "from nbdev.showdoc import *"
   ]
  },
  {
   "cell_type": "code",
   "execution_count": null,
   "metadata": {},
   "outputs": [],
   "source": [
    "#| export\n",
    "import random\n",
    "\n",
    "import numpy as np\n",
    "from numba import njit  # type: ignore\n",
    "\n",
    "from window_ops.utils import first_not_na"
   ]
  },
  {
   "cell_type": "code",
   "execution_count": null,
   "metadata": {},
   "outputs": [],
   "source": [
    "#| export\n",
    "@njit\n",
    "def ewm_mean(x: np.ndarray, alpha: float) -> np.ndarray:\n",
    "    n_samples = x.size\n",
    "    out = np.full_like(x, np.nan)\n",
    "    start_idx = first_not_na(x)\n",
    "    if start_idx >= n_samples:\n",
    "        return out\n",
    "    out[start_idx] = x[start_idx]\n",
    "    for i in range(start_idx + 1, n_samples):\n",
    "        out[i] = alpha * x[i] + (1-alpha) * out[i-1]\n",
    "    return out"
   ]
  },
  {
   "cell_type": "code",
   "execution_count": null,
   "metadata": {},
   "outputs": [],
   "source": [
    "import pandas as pd\n",
    "\n",
    "y = np.random.rand(10)\n",
    "ys = pd.Series(y)\n",
    "alpha = random.random()\n",
    "\n",
    "assert np.allclose(ewm_mean(y, alpha), ys.ewm(alpha=alpha, adjust=False).mean().values)"
   ]
  }
 ],
 "metadata": {
  "kernelspec": {
   "display_name": "Python 3",
   "language": "python",
   "name": "python3"
  }
 },
 "nbformat": 4,
 "nbformat_minor": 4
}
