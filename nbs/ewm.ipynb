{
 "cells": [
  {
   "cell_type": "raw",
   "metadata": {},
   "source": [
    "---\n",
    "description: Exponentially weighted functions\n",
    "output-file: ewm.html\n",
    "title: EWM\n",
    "\n",
    "---\n",
    "\n"
   ]
  },
  {
   "cell_type": "code",
   "execution_count": null,
   "metadata": {},
   "outputs": [],
   "source": [
    "#| default_exp ewm"
   ]
  },
  {
   "cell_type": "code",
   "execution_count": null,
   "metadata": {},
   "outputs": [],
   "source": [
    "#| include: false\n",
    "import random\n",
    "\n",
    "from nbdev.showdoc import *"
   ]
  },
  {
   "cell_type": "code",
   "execution_count": null,
   "metadata": {},
   "outputs": [],
   "source": [
    "#| export\n",
    "import random\n",
    "\n",
    "import numpy as np\n",
    "from numba import njit  # type: ignore\n",
    "\n",
    "from window_ops.utils import first_not_na"
   ]
  },
  {
   "cell_type": "code",
   "execution_count": null,
   "metadata": {},
   "outputs": [],
   "source": [
    "#| export\n",
    "@njit\n",
    "def ewm_mean(input_array: np.ndarray, alpha: float) -> np.ndarray:\n",
    "    n_samples = input_array.size\n",
    "    output_array = np.full_like(input_array, np.nan)\n",
    "    start_idx = first_not_na(input_array)\n",
    "    if start_idx >= n_samples:\n",
    "        return output_array\n",
    "    output_array[start_idx] = input_array[start_idx]\n",
    "    for i in range(start_idx + 1, n_samples):\n",
    "        output_array[i] = alpha * input_array[i] + (1-alpha) * output_array[i-1]\n",
    "    return output_array"
   ]
  },
  {
   "cell_type": "code",
   "execution_count": null,
   "metadata": {},
   "outputs": [],
   "source": [
    "import pandas as pd\n",
    "\n",
    "y = np.random.rand(10)\n",
    "ys = pd.Series(y)\n",
    "alpha = random.random()\n",
    "\n",
    "assert np.allclose(ewm_mean(y, alpha), ys.ewm(alpha=alpha, adjust=False).mean().values)"
   ]
  }
 ],
 "metadata": {
  "kernelspec": {
   "display_name": "python3",
   "language": "python",
   "name": "python3"
  }
 },
 "nbformat": 4,
 "nbformat_minor": 4
}
