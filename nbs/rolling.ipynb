{
 "cells": [
  {
   "cell_type": "raw",
   "metadata": {},
   "source": [
    "---\n",
    "description: Rolling window operations\n",
    "output-file: rolling.html\n",
    "title: Rolling\n",
    "\n",
    "---\n",
    "\n"
   ]
  },
  {
   "cell_type": "code",
   "execution_count": null,
   "metadata": {},
   "outputs": [],
   "source": [
    "#| default_exp rolling"
   ]
  },
  {
   "cell_type": "code",
   "execution_count": null,
   "metadata": {},
   "outputs": [],
   "source": [
    "#| include: false\n",
    "%load_ext autoreload\n",
    "%autoreload 2"
   ]
  },
  {
   "cell_type": "code",
   "execution_count": null,
   "metadata": {},
   "outputs": [],
   "source": [
    "#| export\n",
    "from math import sqrt\n",
    "from typing import Callable, Optional, Tuple\n",
    "\n",
    "import numpy as np\n",
    "from numba import njit  # type: ignore\n",
    "\n",
    "from window_ops.utils import _gt, _lt, _validate_rolling_sizes, first_not_na"
   ]
  },
  {
   "cell_type": "code",
   "execution_count": null,
   "metadata": {},
   "outputs": [],
   "source": [
    "from typing import Union\n",
    "\n",
    "import pandas as pd\n",
    "\n",
    "def prepend_nans(\n",
    "        collection: Union[np.ndarray, pd.Series],\n",
    "        number_of_nans: int) -> Union[np.ndarray, pd.Series]:\n",
    "    nans = np.full(number_of_nans, np.nan, dtype=np.float64)\n",
    "    if isinstance(collection, np.ndarray):\n",
    "        return np.hstack((nans, collection))\n",
    "    if isinstance(collection, pd.Series):\n",
    "        return pd.concat([pd.Series(nans), collection])\n",
    "    raise ValueError(f'Collection must be np.ndarray or pd.Series, got: {type(collection)}')"
   ]
  },
  {
   "cell_type": "code",
   "execution_count": null,
   "metadata": {},
   "outputs": [],
   "source": [
    "import random\n",
    "\n",
    "import pandas as pd\n",
    "\n",
    "np.random.seed(0)\n",
    "number_of_nans = 10\n",
    "\n",
    "array = np.random.rand(100)\n",
    "array_with_nans = prepend_nans(array, number_of_nans)\n",
    "series = pd.Series(array)\n",
    "series_with_nans = prepend_nans(series, number_of_nans)\n",
    "all_nans_array = np.full(100, np.nan)"
   ]
  },
  {
   "cell_type": "markdown",
   "metadata": {},
   "source": [
    "## Regular"
   ]
  },
  {
   "cell_type": "code",
   "execution_count": null,
   "metadata": {},
   "outputs": [],
   "source": [
    "#| exporti\n",
    "def rolling_docstring(*args, **kwargs) -> Callable:\n",
    "    base_docstring = \"\"\"\n",
    "        Compute the {} over the last non-na window_size samples of the\n",
    "        input array starting at min_samples.\n",
    "    \"\"\"\n",
    "    def docstring_decorator(function: Callable):\n",
    "        function.__doc__ = base_docstring.format(function.__name__)\n",
    "        return function\n",
    "        \n",
    "    return docstring_decorator(*args, **kwargs)"
   ]
  },
  {
   "cell_type": "code",
   "execution_count": null,
   "metadata": {},
   "outputs": [],
   "source": [
    "def test_rolling_vs_pandas(rolling: Callable,\n",
    "                           pandas_aggregation: str,\n",
    "                           lower_bound_for_min_samples: int = 1,\n",
    "                           non_na_values: int = 5) -> None:\n",
    "    \n",
    "    window_size = random.randint(3, 10)\n",
    "    min_samples = random.randint(2, window_size)\n",
    "    \n",
    "    # expanding for [min_samples, window_size), rolling for [window_size, n_samples]\n",
    "    np.testing.assert_allclose(\n",
    "        rolling(array, window_size, min_samples=lower_bound_for_min_samples), \n",
    "        series.rolling(window_size, min_periods=lower_bound_for_min_samples).agg(pandas_aggregation)\n",
    "    )\n",
    "\n",
    "    # arbitrary min_samples and window_size\n",
    "    np.testing.assert_allclose(\n",
    "        rolling(array, window_size, min_samples=min_samples), \n",
    "        series.rolling(window_size, min_periods=min_samples).agg(pandas_aggregation)\n",
    "    )\n",
    "\n",
    "    # min_samples = window_size\n",
    "    np.testing.assert_allclose(\n",
    "        rolling(array, window_size),\n",
    "        series.rolling(window_size).agg(pandas_aggregation)\n",
    "    )\n",
    "\n",
    "    # skip nas\n",
    "    np.testing.assert_allclose(\n",
    "        rolling(array_with_nans, window_size, min_samples=min_samples),\n",
    "        series_with_nans.rolling(window_size, min_periods=min_samples).agg(pandas_aggregation)\n",
    "    )\n",
    "\n",
    "    # |non-na-values| < min_samples\n",
    "    np.testing.assert_allclose(\n",
    "        rolling(\n",
    "            array_with_nans[:number_of_nans + non_na_values],\n",
    "            window_size=non_na_values+2,\n",
    "            min_samples=non_na_values+1),\n",
    "        all_nans_array[:number_of_nans + non_na_values]\n",
    "    )\n",
    "\n",
    "    # min_samples < |non-na-values| < window_size\n",
    "    np.testing.assert_allclose(\n",
    "        rolling(\n",
    "            array_with_nans[:number_of_nans + lower_bound_for_min_samples+2], \n",
    "            window_size=lower_bound_for_min_samples+1,\n",
    "            min_samples=lower_bound_for_min_samples),\n",
    "        np.hstack((\n",
    "            all_nans_array[:number_of_nans], \n",
    "            rolling(\n",
    "                array_with_nans[number_of_nans : number_of_nans+lower_bound_for_min_samples+2], \n",
    "                window_size=lower_bound_for_min_samples+1, \n",
    "                min_samples=lower_bound_for_min_samples)\n",
    "        ))\n",
    "    )\n",
    "\n",
    "    # all-nan -> all-nan\n",
    "    np.testing.assert_equal(\n",
    "        rolling(all_nans_array, window_size, min_samples=min_samples),\n",
    "        all_nans_array\n",
    "    )    "
   ]
  },
  {
   "cell_type": "code",
   "execution_count": null,
   "metadata": {},
   "outputs": [],
   "source": [
    "#| export\n",
    "@njit\n",
    "@rolling_docstring\n",
    "def rolling_mean(input_array: np.ndarray,\n",
    "                 window_size: int,\n",
    "                 min_samples: Optional[int] = None) -> np.ndarray:\n",
    "    n_samples = input_array.size\n",
    "    window_size, min_samples = _validate_rolling_sizes(window_size, min_samples)\n",
    "    \n",
    "    output_array = np.full_like(input_array, np.nan)\n",
    "    start_idx = first_not_na(input_array)\n",
    "    if start_idx + min_samples > n_samples:\n",
    "        return output_array\n",
    "    \n",
    "    accum = 0.\n",
    "    upper_limit = min(start_idx + window_size, n_samples)\n",
    "    for i in range(start_idx, upper_limit):\n",
    "        accum += input_array[i]\n",
    "        if i + 1 >= start_idx + min_samples:\n",
    "            output_array[i] = accum / (i - start_idx + 1)\n",
    "            \n",
    "    for i in range(start_idx + window_size, n_samples):\n",
    "        accum += input_array[i] - input_array[i - window_size]\n",
    "        output_array[i] = accum / window_size\n",
    "\n",
    "    return output_array"
   ]
  },
  {
   "cell_type": "code",
   "execution_count": null,
   "metadata": {},
   "outputs": [],
   "source": [
    "test_rolling_vs_pandas(rolling=rolling_mean, pandas_aggregation='mean')"
   ]
  },
  {
   "cell_type": "code",
   "execution_count": null,
   "metadata": {},
   "outputs": [],
   "source": [
    "#| exporti\n",
    "@njit\n",
    "def _rolling_std(input_array: np.ndarray, \n",
    "                 window_size: int,\n",
    "                 min_samples: Optional[int] = None) -> Tuple[np.ndarray, float, float]:\n",
    "    \"\"\"Computes the rolling standard deviation using Welford's online algorithm.\n",
    "    \n",
    "    Reference: https://en.wikipedia.org/wiki/Algorithms_for_calculating_variance#Welford's_online_algorithm\"\"\"\n",
    "    n_samples = input_array.size\n",
    "    window_size, min_samples = _validate_rolling_sizes(window_size, min_samples)\n",
    "    if min_samples < 2:  # type: ignore\n",
    "        raise ValueError('min_samples must be greater than 1.')\n",
    "\n",
    "    output_array = np.full_like(input_array, np.nan)\n",
    "    start_idx = first_not_na(input_array)\n",
    "    if start_idx + min_samples > n_samples:\n",
    "        return output_array, 0, 0\n",
    "\n",
    "    prev_avg = 0.\n",
    "    curr_avg = input_array[start_idx]\n",
    "    m2 = 0.\n",
    "    upper_limit = min(start_idx + window_size, n_samples)\n",
    "    for i in range(start_idx + 1, upper_limit):\n",
    "        prev_avg = curr_avg\n",
    "        curr_avg = prev_avg + (input_array[i] - prev_avg) / (i - start_idx + 1)\n",
    "        m2 += (input_array[i] - prev_avg) * (input_array[i] - curr_avg)\n",
    "        if i + 1 >= start_idx + min_samples:\n",
    "            output_array[i] = sqrt(m2 / (i - start_idx))\n",
    "            \n",
    "    for i in range(start_idx + window_size, n_samples):\n",
    "        prev_avg = curr_avg\n",
    "        new_minus_old = input_array[i] - input_array[i-window_size]\n",
    "        curr_avg = prev_avg + new_minus_old / window_size\n",
    "        m2 += new_minus_old * (input_array[i] - curr_avg + input_array[i-window_size] - prev_avg)\n",
    "        output_array[i] = sqrt(m2 / (window_size - 1))\n",
    "        \n",
    "    return output_array, curr_avg, m2"
   ]
  },
  {
   "cell_type": "code",
   "execution_count": null,
   "metadata": {},
   "outputs": [],
   "source": [
    "#| export\n",
    "@njit\n",
    "@rolling_docstring\n",
    "def rolling_std(input_array: np.ndarray, \n",
    "                window_size: int,\n",
    "                min_samples: Optional[int] = None) -> np.ndarray:\n",
    "    output_array, _, _ = _rolling_std(input_array, window_size, min_samples)\n",
    "    return output_array"
   ]
  },
  {
   "cell_type": "code",
   "execution_count": null,
   "metadata": {},
   "outputs": [],
   "source": [
    "test_rolling_vs_pandas(rolling=rolling_std, pandas_aggregation='std', lower_bound_for_min_samples=2)"
   ]
  },
  {
   "cell_type": "code",
   "execution_count": null,
   "metadata": {},
   "outputs": [],
   "source": [
    "#| exporti\n",
    "@njit \n",
    "def _rolling_comp(comp: Callable,\n",
    "                  input_array: np.ndarray, \n",
    "                  window_size: int,\n",
    "                  min_samples: Optional[int] = None) -> np.ndarray:\n",
    "    n_samples = input_array.size\n",
    "    window_size, min_samples = _validate_rolling_sizes(window_size, min_samples)\n",
    "    \n",
    "    output_array = np.full_like(input_array, np.nan)\n",
    "    start_idx = first_not_na(input_array)\n",
    "    if start_idx + min_samples > n_samples:\n",
    "        return output_array\n",
    "    \n",
    "    upper_limit = min(start_idx + window_size, n_samples)\n",
    "    pivot = input_array[start_idx]\n",
    "    for i in range(start_idx, upper_limit):\n",
    "        if comp(input_array[i], pivot) > 0:\n",
    "            pivot = input_array[i]\n",
    "        if i + 1 >= start_idx + min_samples:\n",
    "            output_array[i] = pivot\n",
    "    \n",
    "    for i in range(start_idx + window_size, n_samples):\n",
    "        pivot = input_array[i]\n",
    "        for j in range(1, window_size):\n",
    "            if comp(input_array[i - j], pivot) > 0:\n",
    "                pivot = input_array[i - j]\n",
    "        output_array[i] = pivot\n",
    "    return output_array"
   ]
  },
  {
   "cell_type": "code",
   "execution_count": null,
   "metadata": {},
   "outputs": [],
   "source": [
    "#| export\n",
    "@njit\n",
    "@rolling_docstring\n",
    "def rolling_max(input_array: np.ndarray,\n",
    "                window_size: int,\n",
    "                min_samples: Optional[int] = None) -> np.ndarray:\n",
    "    return _rolling_comp(_gt, input_array, window_size, min_samples)"
   ]
  },
  {
   "cell_type": "code",
   "execution_count": null,
   "metadata": {},
   "outputs": [],
   "source": [
    "test_rolling_vs_pandas(rolling_max, 'max')"
   ]
  },
  {
   "cell_type": "code",
   "execution_count": null,
   "metadata": {},
   "outputs": [],
   "source": [
    "#| export\n",
    "@njit\n",
    "@rolling_docstring\n",
    "def rolling_min(x: np.ndarray,\n",
    "                window_size: int,\n",
    "                min_samples: Optional[int] = None) -> np.ndarray:\n",
    "    return _rolling_comp(_lt, x, window_size, min_samples)"
   ]
  },
  {
   "cell_type": "code",
   "execution_count": null,
   "metadata": {},
   "outputs": [],
   "source": [
    "test_rolling_vs_pandas(rolling_min, 'min')"
   ]
  },
  {
   "cell_type": "markdown",
   "metadata": {},
   "source": [
    "## Seasonal"
   ]
  },
  {
   "cell_type": "code",
   "execution_count": null,
   "metadata": {},
   "outputs": [],
   "source": [
    "#| exporti\n",
    "@njit\n",
    "def _seasonal_rolling_op(rolling_op: Callable,\n",
    "                         input_array: np.ndarray,\n",
    "                         season_length: int,\n",
    "                         window_size: int,\n",
    "                         min_samples: Optional[int] = None) -> np.ndarray: \n",
    "    n_samples = input_array.size\n",
    "    output_array = np.full_like(input_array, np.nan)\n",
    "    for season in range(season_length):\n",
    "        output_array[season::season_length] = rolling_op(input_array[season::season_length], window_size, min_samples)\n",
    "    return output_array"
   ]
  },
  {
   "cell_type": "code",
   "execution_count": null,
   "metadata": {},
   "outputs": [],
   "source": [
    "from functools import partial\n",
    "\n",
    "season_length = 7\n",
    "\n",
    "\n",
    "def test_seasonal_rolling_vs_pandas(seasonal_rolling: Callable,\n",
    "                                    pandas_aggregation: str,\n",
    "                                    lower_bound_for_min_samples: int = 1,\n",
    "                                    non_na_values: int = 5) -> None:\n",
    "    \n",
    "    window_size = random.randint(3, 4)\n",
    "    min_samples = random.randint(2, window_size)\n",
    "    \n",
    "    # expanding for [min_samples, window_size), rolling for [window_size, n_samples]\n",
    "    np.testing.assert_allclose(\n",
    "        seasonal_rolling(array, window_size=window_size, min_samples=lower_bound_for_min_samples), \n",
    "        grouped_series.transform(\n",
    "            lambda x: x.rolling(window_size, min_periods=lower_bound_for_min_samples).agg(pandas_aggregation)\n",
    "        )\n",
    "    )\n",
    "\n",
    "    # arbitrary min_samples and window_size\n",
    "    np.testing.assert_allclose(\n",
    "        seasonal_rolling(array, window_size=window_size, min_samples=min_samples), \n",
    "        grouped_series.transform(\n",
    "            lambda x: x.rolling(window_size, min_periods=min_samples).agg(pandas_aggregation)\n",
    "        )\n",
    "    )\n",
    "\n",
    "    # min_samples = window_size\n",
    "    np.testing.assert_allclose(\n",
    "        seasonal_rolling(array, window_size=window_size),\n",
    "        grouped_series.transform(\n",
    "            lambda x: x.rolling(window_size).agg(pandas_aggregation))\n",
    "    )\n",
    "\n",
    "    # skip nas\n",
    "    np.testing.assert_allclose(\n",
    "        seasonal_rolling(array_with_nans, window_size=window_size, min_samples=min_samples),\n",
    "        grouped_series_with_nans.transform(\n",
    "            lambda x: x.rolling(window_size, min_periods=min_samples).agg(pandas_aggregation)\n",
    "        )\n",
    "    )\n",
    "\n",
    "    # |non-na-values| < min_samples\n",
    "    np.testing.assert_allclose(\n",
    "        seasonal_rolling(\n",
    "            array_with_nans[:number_of_nans + non_na_values],\n",
    "            window_size=non_na_values+2,\n",
    "            min_samples=non_na_values+1),\n",
    "        all_nans_array[:number_of_nans + non_na_values]\n",
    "    )\n",
    "\n",
    "    # min_samples < |non-na-values| < window_size\n",
    "    np.testing.assert_allclose(\n",
    "        seasonal_rolling(\n",
    "            array_with_nans[:number_of_nans + lower_bound_for_min_samples + 2*season_length], \n",
    "            window_size=lower_bound_for_min_samples + season_length,\n",
    "            min_samples=lower_bound_for_min_samples),\n",
    "        np.hstack((\n",
    "            all_nans_array[:number_of_nans], \n",
    "            seasonal_rolling(\n",
    "                array_with_nans[number_of_nans : number_of_nans + lower_bound_for_min_samples + 2*season_length], \n",
    "                window_size=lower_bound_for_min_samples + season_length,\n",
    "                min_samples=lower_bound_for_min_samples)\n",
    "        ))\n",
    "    )\n",
    "\n",
    "    # all-nan -> all-nan\n",
    "    np.testing.assert_equal(\n",
    "        seasonal_rolling(all_nans_array, window_size=window_size, min_samples=min_samples),\n",
    "        all_nans_array\n",
    "    )\n",
    "\n",
    "    \n",
    "def get_seasons(season_length, n_samples):\n",
    "    return np.arange(n_samples) % season_length\n",
    "\n",
    "grouped_series = series.groupby(get_seasons(season_length, series.size))\n",
    "grouped_series_with_nans = series_with_nans.groupby(get_seasons(season_length, series_with_nans.size))"
   ]
  },
  {
   "cell_type": "code",
   "execution_count": null,
   "metadata": {},
   "outputs": [],
   "source": [
    "#| export\n",
    "@njit\n",
    "@rolling_docstring\n",
    "def seasonal_rolling_mean(input_array: np.ndarray,\n",
    "                          season_length: int,\n",
    "                          window_size: int,\n",
    "                          min_samples: Optional[int] = None) -> np.ndarray:\n",
    "    return _seasonal_rolling_op(rolling_mean, input_array, season_length, window_size, min_samples)"
   ]
  },
  {
   "cell_type": "code",
   "execution_count": null,
   "metadata": {},
   "outputs": [],
   "source": [
    "test_seasonal_rolling_vs_pandas(partial(seasonal_rolling_mean, season_length=season_length), 'mean')"
   ]
  },
  {
   "cell_type": "code",
   "execution_count": null,
   "metadata": {},
   "outputs": [],
   "source": [
    "#| export\n",
    "@njit\n",
    "@rolling_docstring\n",
    "def seasonal_rolling_std(input_array: np.ndarray,\n",
    "                         season_length: int,\n",
    "                         window_size: int,\n",
    "                         min_samples: Optional[int] = None) -> np.ndarray:\n",
    "    return _seasonal_rolling_op(rolling_std, input_array, season_length, window_size, min_samples)"
   ]
  },
  {
   "cell_type": "code",
   "execution_count": null,
   "metadata": {},
   "outputs": [],
   "source": [
    "test_seasonal_rolling_vs_pandas(partial(seasonal_rolling_std, season_length=season_length), 'std', lower_bound_for_min_samples=2)"
   ]
  },
  {
   "cell_type": "code",
   "execution_count": null,
   "metadata": {},
   "outputs": [],
   "source": [
    "#| export\n",
    "@njit\n",
    "@rolling_docstring\n",
    "def seasonal_rolling_max(input_array: np.ndarray,\n",
    "                         season_length: int,\n",
    "                         window_size: int,\n",
    "                         min_samples: Optional[int] = None) -> np.ndarray:\n",
    "    return _seasonal_rolling_op(rolling_max, input_array, season_length, window_size, min_samples)"
   ]
  },
  {
   "cell_type": "code",
   "execution_count": null,
   "metadata": {},
   "outputs": [],
   "source": [
    "test_seasonal_rolling_vs_pandas(partial(seasonal_rolling_max, season_length=season_length), 'max')"
   ]
  },
  {
   "cell_type": "code",
   "execution_count": null,
   "metadata": {},
   "outputs": [],
   "source": [
    "#| export\n",
    "@njit\n",
    "@rolling_docstring\n",
    "def seasonal_rolling_min(x: np.ndarray,\n",
    "                         season_length: int,\n",
    "                         window_size: int,\n",
    "                         min_samples: Optional[int] = None) -> np.ndarray:\n",
    "    return _seasonal_rolling_op(rolling_min, x, season_length, window_size, min_samples)"
   ]
  },
  {
   "cell_type": "code",
   "execution_count": null,
   "metadata": {},
   "outputs": [],
   "source": [
    "test_seasonal_rolling_vs_pandas(partial(seasonal_rolling_min, season_length=season_length), 'min')"
   ]
  }
 ],
 "metadata": {
  "kernelspec": {
   "display_name": "python3",
   "language": "python",
   "name": "python3"
  }
 },
 "nbformat": 4,
 "nbformat_minor": 4
}
