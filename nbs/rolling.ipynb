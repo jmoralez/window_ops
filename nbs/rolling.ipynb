{
 "cells": [
  {
   "cell_type": "raw",
   "metadata": {},
   "source": [
    "---\n",
    "description: Rolling window operations\n",
    "output-file: rolling.html\n",
    "title: Rolling\n",
    "\n",
    "---\n",
    "\n"
   ]
  },
  {
   "cell_type": "code",
   "execution_count": null,
   "metadata": {},
   "outputs": [],
   "source": [
    "#| default_exp rolling"
   ]
  },
  {
   "cell_type": "code",
   "execution_count": null,
   "metadata": {},
   "outputs": [],
   "source": [
    "#| hide\n",
    "%load_ext autoreload\n",
    "%autoreload 2"
   ]
  },
  {
   "cell_type": "code",
   "execution_count": null,
   "metadata": {},
   "outputs": [],
   "source": [
    "#| export\n",
    "from math import sqrt\n",
    "from typing import Callable, Optional, Tuple\n",
    "\n",
    "import numpy as np\n",
    "from numba import njit  # type: ignore\n",
    "\n",
    "from window_ops.utils import _gt, _lt, _validate_rolling_sizes, first_not_na"
   ]
  },
  {
   "cell_type": "code",
   "execution_count": null,
   "metadata": {},
   "outputs": [
    {
     "name": "stderr",
     "output_type": "stream",
     "text": [
      "/tmp/ipykernel_114728/1690348054.py:5: DeprecationWarning: \n",
      "Pyarrow will become a required dependency of pandas in the next major release of pandas (pandas 3.0),\n",
      "(to allow more performant data types, such as the Arrow string type, and better interoperability with other libraries)\n",
      "but was not found to be installed on your system.\n",
      "If this would cause problems for you,\n",
      "please provide us feedback at https://github.com/pandas-dev/pandas/issues/54466\n",
      "        \n",
      "  import pandas as pd\n"
     ]
    }
   ],
   "source": [
    "#| hide\n",
    "import random\n",
    "from typing import Union\n",
    "\n",
    "import pandas as pd"
   ]
  },
  {
   "cell_type": "code",
   "execution_count": null,
   "metadata": {},
   "outputs": [],
   "source": [
    "#| hide\n",
    "def prepend_nans(\n",
    "        collection: Union[np.ndarray, pd.Series],\n",
    "        number_of_nans: int) -> Union[np.ndarray, pd.Series]:\n",
    "    nans = np.full(number_of_nans, np.nan, dtype=np.float64)\n",
    "    if isinstance(collection, np.ndarray):\n",
    "        return np.hstack((nans, collection))\n",
    "    if isinstance(collection, pd.Series):\n",
    "        return pd.concat([pd.Series(nans), collection])\n",
    "    raise ValueError(f'Collection must be np.ndarray or pd.Series, got: {type(collection)}')\n",
    "\n",
    "np.random.seed(0)\n",
    "number_of_nans = 10\n",
    "\n",
    "array = np.random.rand(100)\n",
    "array_with_nans = prepend_nans(array, number_of_nans)\n",
    "series = pd.Series(array)\n",
    "series_with_nans = prepend_nans(series, number_of_nans)\n",
    "all_nans_array = np.full(100, np.nan)"
   ]
  },
  {
   "cell_type": "markdown",
   "metadata": {},
   "source": [
    "## Regular"
   ]
  },
  {
   "cell_type": "code",
   "execution_count": null,
   "metadata": {},
   "outputs": [],
   "source": [
    "#| exporti\n",
    "def _rolling_docstring(*args, **kwargs) -> Callable:\n",
    "    base_docstring = \"\"\"Compute the {} over the last non-na window_size samples of the input array starting at min_samples.\n",
    "\n",
    "    Parameters\n",
    "    ----------\n",
    "    input_array : np.ndarray\n",
    "        Input array\n",
    "    window_size : int\n",
    "        Size of the sliding window\n",
    "    min_samples : int, optional (default=None)\n",
    "        Minimum number of samples to produce a result, if `None` then it's set to window_size\n",
    "\n",
    "    Returns\n",
    "    -------\n",
    "    np.ndarray\n",
    "        Array with rolling computation\n",
    "    \"\"\"\n",
    "    def docstring_decorator(function: Callable):\n",
    "        function.__doc__ = base_docstring.format(function.__name__)\n",
    "        return function\n",
    "        \n",
    "    return docstring_decorator(*args, **kwargs)"
   ]
  },
  {
   "cell_type": "code",
   "execution_count": null,
   "metadata": {},
   "outputs": [],
   "source": [
    "#| hide\n",
    "def test_rolling_vs_pandas(rolling: Callable,\n",
    "                           pandas_aggregation: str,\n",
    "                           lower_bound_for_min_samples: int = 1,\n",
    "                           non_na_values: int = 5) -> None:\n",
    "    \n",
    "    window_size = random.randint(3, 10)\n",
    "    min_samples = random.randint(2, window_size)\n",
    "    \n",
    "    # expanding for [min_samples, window_size), rolling for [window_size, n_samples]\n",
    "    np.testing.assert_allclose(\n",
    "        rolling(array, window_size, min_samples=lower_bound_for_min_samples), \n",
    "        series.rolling(window_size, min_periods=lower_bound_for_min_samples).agg(pandas_aggregation)\n",
    "    )\n",
    "\n",
    "    # arbitrary min_samples and window_size\n",
    "    np.testing.assert_allclose(\n",
    "        rolling(array, window_size, min_samples=min_samples), \n",
    "        series.rolling(window_size, min_periods=min_samples).agg(pandas_aggregation)\n",
    "    )\n",
    "\n",
    "    # min_samples = window_size\n",
    "    np.testing.assert_allclose(\n",
    "        rolling(array, window_size),\n",
    "        series.rolling(window_size).agg(pandas_aggregation)\n",
    "    )\n",
    "\n",
    "    # skip nas\n",
    "    np.testing.assert_allclose(\n",
    "        rolling(array_with_nans, window_size, min_samples=min_samples),\n",
    "        series_with_nans.rolling(window_size, min_periods=min_samples).agg(pandas_aggregation)\n",
    "    )\n",
    "\n",
    "    # |non-na-values| < min_samples\n",
    "    np.testing.assert_allclose(\n",
    "        rolling(\n",
    "            array_with_nans[:number_of_nans + non_na_values],\n",
    "            window_size=non_na_values+2,\n",
    "            min_samples=non_na_values+1),\n",
    "        all_nans_array[:number_of_nans + non_na_values]\n",
    "    )\n",
    "\n",
    "    # min_samples < |non-na-values| < window_size\n",
    "    np.testing.assert_allclose(\n",
    "        rolling(\n",
    "            array_with_nans[:number_of_nans + lower_bound_for_min_samples+2], \n",
    "            window_size=lower_bound_for_min_samples+1,\n",
    "            min_samples=lower_bound_for_min_samples),\n",
    "        np.hstack((\n",
    "            all_nans_array[:number_of_nans], \n",
    "            rolling(\n",
    "                array_with_nans[number_of_nans : number_of_nans+lower_bound_for_min_samples+2], \n",
    "                window_size=lower_bound_for_min_samples+1, \n",
    "                min_samples=lower_bound_for_min_samples)\n",
    "        ))\n",
    "    )\n",
    "\n",
    "    # all-nan -> all-nan\n",
    "    np.testing.assert_equal(\n",
    "        rolling(all_nans_array, window_size, min_samples=min_samples),\n",
    "        all_nans_array\n",
    "    )    "
   ]
  },
  {
   "cell_type": "code",
   "execution_count": null,
   "metadata": {},
   "outputs": [],
   "source": [
    "#| export\n",
    "@njit\n",
    "@_rolling_docstring\n",
    "def rolling_mean(input_array: np.ndarray,\n",
    "                 window_size: int,\n",
    "                 min_samples: Optional[int] = None) -> np.ndarray:\n",
    "    n_samples = input_array.size\n",
    "    window_size, min_samples = _validate_rolling_sizes(window_size, min_samples)\n",
    "    \n",
    "    output_array = np.full_like(input_array, np.nan)\n",
    "    start_idx = first_not_na(input_array)\n",
    "    if start_idx + min_samples > n_samples:\n",
    "        return output_array\n",
    "    \n",
    "    accum = 0.\n",
    "    upper_limit = min(start_idx + window_size, n_samples)\n",
    "    for i in range(start_idx, upper_limit):\n",
    "        accum += input_array[i]\n",
    "        if i + 1 >= start_idx + min_samples:\n",
    "            output_array[i] = accum / (i - start_idx + 1)\n",
    "            \n",
    "    for i in range(start_idx + window_size, n_samples):\n",
    "        accum += input_array[i] - input_array[i - window_size]\n",
    "        output_array[i] = accum / window_size\n",
    "\n",
    "    return output_array"
   ]
  },
  {
   "cell_type": "code",
   "execution_count": null,
   "metadata": {},
   "outputs": [],
   "source": [
    "#| hide\n",
    "test_rolling_vs_pandas(rolling=rolling_mean, pandas_aggregation='mean')"
   ]
  },
  {
   "cell_type": "code",
   "execution_count": null,
   "metadata": {},
   "outputs": [],
   "source": [
    "#| exporti\n",
    "@njit\n",
    "def _rolling_std(input_array: np.ndarray, \n",
    "                 window_size: int,\n",
    "                 min_samples: Optional[int] = None) -> Tuple[np.ndarray, float, float]:\n",
    "    \"\"\"Computes the rolling standard deviation using Welford's online algorithm.\n",
    "    \n",
    "    Reference: https://en.wikipedia.org/wiki/Algorithms_for_calculating_variance#Welford's_online_algorithm\"\"\"\n",
    "    n_samples = input_array.size\n",
    "    window_size, min_samples = _validate_rolling_sizes(window_size, min_samples)\n",
    "    if min_samples < 2:  # type: ignore\n",
    "        raise ValueError('min_samples must be greater than 1.')\n",
    "\n",
    "    output_array = np.full_like(input_array, np.nan)\n",
    "    start_idx = first_not_na(input_array)\n",
    "    if start_idx + min_samples > n_samples:\n",
    "        return output_array, 0, 0\n",
    "\n",
    "    prev_avg = 0.\n",
    "    curr_avg = input_array[start_idx]\n",
    "    m2 = 0.\n",
    "    upper_limit = min(start_idx + window_size, n_samples)\n",
    "    for i in range(start_idx + 1, upper_limit):\n",
    "        prev_avg = curr_avg\n",
    "        curr_avg = prev_avg + (input_array[i] - prev_avg) / (i - start_idx + 1)\n",
    "        m2 += (input_array[i] - prev_avg) * (input_array[i] - curr_avg)\n",
    "        m2 = max(m2, 0.0)\n",
    "        if i + 1 >= start_idx + min_samples:\n",
    "            output_array[i] = sqrt(m2 / (i - start_idx))\n",
    "            \n",
    "    for i in range(start_idx + window_size, n_samples):\n",
    "        prev_avg = curr_avg\n",
    "        new_minus_old = input_array[i] - input_array[i-window_size]\n",
    "        curr_avg = prev_avg + new_minus_old / window_size\n",
    "        m2 += new_minus_old * (input_array[i] - curr_avg + input_array[i-window_size] - prev_avg)\n",
    "        m2 = max(m2, 0.0)\n",
    "        output_array[i] = sqrt(m2 / (window_size - 1))\n",
    "        \n",
    "    return output_array, curr_avg, m2"
   ]
  },
  {
   "cell_type": "code",
   "execution_count": null,
   "metadata": {},
   "outputs": [],
   "source": [
    "#| export\n",
    "@njit\n",
    "@_rolling_docstring\n",
    "def rolling_std(input_array: np.ndarray, \n",
    "                window_size: int,\n",
    "                min_samples: Optional[int] = None) -> np.ndarray:\n",
    "    output_array, _, _ = _rolling_std(input_array, window_size, min_samples)\n",
    "    return output_array"
   ]
  },
  {
   "cell_type": "code",
   "execution_count": null,
   "metadata": {},
   "outputs": [],
   "source": [
    "#| hide\n",
    "test_rolling_vs_pandas(rolling=rolling_std, pandas_aggregation='std', lower_bound_for_min_samples=2)"
   ]
  },
  {
   "cell_type": "code",
   "execution_count": null,
   "metadata": {},
   "outputs": [],
   "source": [
    "#| exporti\n",
    "@njit \n",
    "def _rolling_comp(comp: Callable,\n",
    "                  input_array: np.ndarray, \n",
    "                  window_size: int,\n",
    "                  min_samples: Optional[int] = None) -> np.ndarray:\n",
    "    n_samples = input_array.size\n",
    "    window_size, min_samples = _validate_rolling_sizes(window_size, min_samples)\n",
    "    \n",
    "    output_array = np.full_like(input_array, np.nan)\n",
    "    start_idx = first_not_na(input_array)\n",
    "    if start_idx + min_samples > n_samples:\n",
    "        return output_array\n",
    "    \n",
    "    upper_limit = min(start_idx + window_size, n_samples)\n",
    "    pivot = input_array[start_idx]\n",
    "    for i in range(start_idx, upper_limit):\n",
    "        if comp(input_array[i], pivot) > 0:\n",
    "            pivot = input_array[i]\n",
    "        if i + 1 >= start_idx + min_samples:\n",
    "            output_array[i] = pivot\n",
    "    \n",
    "    for i in range(start_idx + window_size, n_samples):\n",
    "        pivot = input_array[i]\n",
    "        for j in range(1, window_size):\n",
    "            if comp(input_array[i - j], pivot) > 0:\n",
    "                pivot = input_array[i - j]\n",
    "        output_array[i] = pivot\n",
    "    return output_array"
   ]
  },
  {
   "cell_type": "code",
   "execution_count": null,
   "metadata": {},
   "outputs": [],
   "source": [
    "#| export\n",
    "@njit\n",
    "@_rolling_docstring\n",
    "def rolling_max(input_array: np.ndarray,\n",
    "                window_size: int,\n",
    "                min_samples: Optional[int] = None) -> np.ndarray:\n",
    "    return _rolling_comp(_gt, input_array, window_size, min_samples)"
   ]
  },
  {
   "cell_type": "code",
   "execution_count": null,
   "metadata": {},
   "outputs": [],
   "source": [
    "#| hide\n",
    "test_rolling_vs_pandas(rolling_max, 'max')"
   ]
  },
  {
   "cell_type": "code",
   "execution_count": null,
   "metadata": {},
   "outputs": [],
   "source": [
    "#| export\n",
    "@njit\n",
    "@_rolling_docstring\n",
    "def rolling_min(x: np.ndarray,\n",
    "                window_size: int,\n",
    "                min_samples: Optional[int] = None) -> np.ndarray:\n",
    "    return _rolling_comp(_lt, x, window_size, min_samples)"
   ]
  },
  {
   "cell_type": "code",
   "execution_count": null,
   "metadata": {},
   "outputs": [],
   "source": [
    "#| hide\n",
    "test_rolling_vs_pandas(rolling_min, 'min')"
   ]
  },
  {
   "cell_type": "code",
   "execution_count": null,
   "metadata": {},
   "outputs": [],
   "source": [
    "#| export\n",
    "@njit\n",
    "def rolling_correlation(x: np.ndarray, window_size: int) -> np.ndarray:\n",
    "    \"\"\"Calculates the rolling correlation of a time series.\n",
    "\n",
    "    Parameters\n",
    "    ----------\n",
    "    x : np.ndarray\n",
    "        Array of time series data.\n",
    "    window_size : int\n",
    "        The size of the window to calculate the correlation over.\n",
    "    \n",
    "    Returns\n",
    "    -------\n",
    "    np.ndarray\n",
    "        Array with the rolling correlation for each point in time.\n",
    "    \"\"\"\n",
    "    n = len(x)\n",
    "    result = np.full(n, np.nan)  # Initializes the result with NaNs\n",
    "    for i in range(window_size, n):\n",
    "        x1 = x[i - window_size : i]\n",
    "        x2 = x[i - window_size + 1 : i + 1]\n",
    "        mean_x1 = np.mean(x1)\n",
    "        mean_x2 = np.mean(x2)\n",
    "        std_x1 = np.std(x1)\n",
    "        std_x2 = np.std(x2)\n",
    "        if std_x1 == 0.0 or std_x2 == 0.0:\n",
    "            result[i] = 0.0  # Avoids division by zero\n",
    "        else:\n",
    "            cov = np.mean((x1 - mean_x1) * (x2 - mean_x2))\n",
    "            corr = cov / (std_x1 * std_x2)\n",
    "            result[i] = corr\n",
    "    return result"
   ]
  },
  {
   "cell_type": "code",
   "execution_count": null,
   "metadata": {},
   "outputs": [
    {
     "data": {
      "text/plain": [
       "array([        nan,         nan,         nan,         nan, -0.4499269 ,\n",
       "       -0.34314644, -0.26327872, -0.83073252, -0.2875238 , -0.80489   ])"
      ]
     },
     "execution_count": null,
     "metadata": {},
     "output_type": "execute_result"
    }
   ],
   "source": [
    "#| hide\n",
    "rolling_correlation(np.random.rand(10), 4)"
   ]
  },
  {
   "cell_type": "code",
   "execution_count": null,
   "metadata": {},
   "outputs": [],
   "source": [
    "#| export\n",
    "@njit\n",
    "def rolling_cv(x: np.ndarray, window_size: int) -> np.ndarray:\n",
    "    \"\"\"Calculates the rolling coefficient of variation (CV) over a specified window.\n",
    "    \n",
    "    Parameters\n",
    "    ----------\n",
    "    x : np.ndarray\n",
    "        Array of time series data.\n",
    "    window_size : int\n",
    "        The window size to calculate CV over.\n",
    "    \n",
    "    Returns\n",
    "    -------\n",
    "    np.ndarray\n",
    "        An array with the rolling CV for each point in time.\n",
    "    \"\"\"\n",
    "    n = len(x)\n",
    "    result = np.full(n, 0.0)  # Initializes with 0.0 instead of NaN\n",
    "    for i in range(window_size - 1, n):\n",
    "        window_data = x[i - window_size + 1:i + 1]\n",
    "        sum_data = 0.0\n",
    "        sum_squares = 0.0\n",
    "        for val in window_data:\n",
    "            sum_data += val\n",
    "            sum_squares += val * val\n",
    "        mean = sum_data / window_size if window_size > 0 else 0.0\n",
    "        if mean == 0.0:\n",
    "            result[i] = 0.0  # Avoids division by zero\n",
    "        else:\n",
    "            std = np.sqrt(sum_squares / window_size - mean * mean)\n",
    "            result[i] = std / mean\n",
    "    return result"
   ]
  },
  {
   "cell_type": "code",
   "execution_count": null,
   "metadata": {},
   "outputs": [
    {
     "data": {
      "text/plain": [
       "array([0.        , 0.30867629, 0.09504531, 0.40328597, 0.46467307,\n",
       "       0.34478299, 0.3793003 , 0.20502956, 0.20537307, 0.12018532])"
      ]
     },
     "execution_count": null,
     "metadata": {},
     "output_type": "execute_result"
    }
   ],
   "source": [
    "#| hide\n",
    "rolling_cv(np.random.rand(10), 2)"
   ]
  },
  {
   "cell_type": "code",
   "execution_count": null,
   "metadata": {},
   "outputs": [],
   "source": [
    "#| export\n",
    "@njit\n",
    "def rolling_mean_positive_only(x: np.ndarray, window_size: int) -> np.ndarray:\n",
    "    \"\"\"\n",
    "    Calculates the rolling mean considering only positive sales days, ignoring effects of zero demand.\n",
    "    \n",
    "    Parameters\n",
    "    ----------\n",
    "    x : np.ndarray\n",
    "        Array of sales data.\n",
    "    window_size : int\n",
    "        The window size to calculate the mean over.\n",
    "    \n",
    "    Returns\n",
    "    -------\n",
    "    np.ndarray\n",
    "        An array with the rolling mean for each point in time, considering only days with positive sales.\n",
    "    \"\"\"\n",
    "    n = len(x)\n",
    "    result = np.full(n, 0.0)  # Initializes with 0.0 instead of NaN\n",
    "    for i in range(window_size - 1, n):\n",
    "        window_data = x[i - window_size + 1 : i + 1]\n",
    "        sum_data = 0.0\n",
    "        count = 0\n",
    "        for val in window_data:\n",
    "            if val > 0:\n",
    "                sum_data += val\n",
    "                count += 1\n",
    "        if count > 0:\n",
    "            result[i] = sum_data / count\n",
    "        else:\n",
    "            result[i] = 0.0  # window_size without positive values, mean is 0\n",
    "    return result"
   ]
  },
  {
   "cell_type": "code",
   "execution_count": null,
   "metadata": {},
   "outputs": [
    {
     "data": {
      "text/plain": [
       "array([0. , 0. , 0. , 0. , 0. , 0. , 1. , 1.5, 2.5, 3.5])"
      ]
     },
     "execution_count": null,
     "metadata": {},
     "output_type": "execute_result"
    }
   ],
   "source": [
    "#| hide\n",
    "rolling_mean_positive_only(np.arange(10) - 5, 2)"
   ]
  },
  {
   "cell_type": "code",
   "execution_count": null,
   "metadata": {},
   "outputs": [],
   "source": [
    "#| export\n",
    "@njit\n",
    "def rolling_kurtosis(x: np.ndarray, window_size: int) -> np.ndarray:\n",
    "    \"\"\"Calculates the rolling kurtosis, helping identify the presence of outliers in sales and how data deviates from a normal distribution.\n",
    "    \n",
    "    Parameters\n",
    "    ----------\n",
    "    x : np.ndarray\n",
    "        Array of sales data.\n",
    "    window_size : int\n",
    "        The window size to calculate kurtosis over.\n",
    "    \n",
    "    Returns\n",
    "    -------\n",
    "    np.ndarray\n",
    "        Array with the rolling kurtosis for each point in time.\n",
    "    \"\"\"\n",
    "    n = len(x)\n",
    "    result = np.full(n, 0.0)  # Initializes with 0.0 instead of NaN\n",
    "    for i in range(window_size - 1, n):\n",
    "        window_data = x[i - window_size + 1:i + 1]\n",
    "        mean = np.mean(window_data)\n",
    "        std = np.std(window_data)\n",
    "        if std > 0:\n",
    "            kurtosis = np.mean((window_data - mean) ** 4) / (std ** 4) - 3\n",
    "        else:\n",
    "            kurtosis = 0.0\n",
    "        result[i] = kurtosis\n",
    "    return result"
   ]
  },
  {
   "cell_type": "code",
   "execution_count": null,
   "metadata": {},
   "outputs": [
    {
     "data": {
      "text/plain": [
       "array([ 0., -2., -2., -2., -2., -2., -2., -2., -2., -2.])"
      ]
     },
     "execution_count": null,
     "metadata": {},
     "output_type": "execute_result"
    }
   ],
   "source": [
    "#| hide\n",
    "rolling_kurtosis(np.random.rand(10), 2)"
   ]
  },
  {
   "cell_type": "markdown",
   "metadata": {},
   "source": [
    "## Seasonal"
   ]
  },
  {
   "cell_type": "code",
   "execution_count": null,
   "metadata": {},
   "outputs": [],
   "source": [
    "#| exporti\n",
    "def _seasonal_rolling_docstring(*args, **kwargs) -> Callable:\n",
    "    base_docstring = \"\"\"Compute the {} over the last non-na window_size samples for each seasonal period of the input array starting at min_samples.\n",
    "\n",
    "    Parameters\n",
    "    ----------\n",
    "    input_array : np.ndarray\n",
    "        Input array\n",
    "    season_length : int\n",
    "        Length of the seasonal period\n",
    "    window_size : int\n",
    "        Size of the sliding window\n",
    "    min_samples : int, optional (default=None)\n",
    "        Minimum number of samples to produce a result, if `None` then it's set to window_size\n",
    "\n",
    "    Returns\n",
    "    -------\n",
    "    np.ndarray\n",
    "        Array with rolling computation\n",
    "    \"\"\"\n",
    "    def docstring_decorator(function: Callable):\n",
    "        function.__doc__ = base_docstring.format(function.__name__)\n",
    "        return function\n",
    "        \n",
    "    return docstring_decorator(*args, **kwargs)\n",
    "\n",
    "@njit\n",
    "def _seasonal_rolling_op(rolling_op: Callable,\n",
    "                         input_array: np.ndarray,\n",
    "                         season_length: int,\n",
    "                         window_size: int,\n",
    "                         min_samples: Optional[int] = None) -> np.ndarray: \n",
    "    n_samples = input_array.size\n",
    "    output_array = np.full_like(input_array, np.nan)\n",
    "    for season in range(season_length):\n",
    "        output_array[season::season_length] = rolling_op(input_array[season::season_length], window_size, min_samples)\n",
    "    return output_array"
   ]
  },
  {
   "cell_type": "code",
   "execution_count": null,
   "metadata": {},
   "outputs": [],
   "source": [
    "#| hide\n",
    "from functools import partial"
   ]
  },
  {
   "cell_type": "code",
   "execution_count": null,
   "metadata": {},
   "outputs": [],
   "source": [
    "#| hide\n",
    "def test_seasonal_rolling_vs_pandas(seasonal_rolling: Callable,\n",
    "                                    pandas_aggregation: str,\n",
    "                                    lower_bound_for_min_samples: int = 1,\n",
    "                                    non_na_values: int = 5) -> None:\n",
    "    \n",
    "    window_size = random.randint(3, 4)\n",
    "    min_samples = random.randint(2, window_size)\n",
    "    \n",
    "    # expanding for [min_samples, window_size), rolling for [window_size, n_samples]\n",
    "    np.testing.assert_allclose(\n",
    "        seasonal_rolling(array, window_size=window_size, min_samples=lower_bound_for_min_samples), \n",
    "        grouped_series.transform(\n",
    "            lambda x: x.rolling(window_size, min_periods=lower_bound_for_min_samples).agg(pandas_aggregation)\n",
    "        )\n",
    "    )\n",
    "\n",
    "    # arbitrary min_samples and window_size\n",
    "    np.testing.assert_allclose(\n",
    "        seasonal_rolling(array, window_size=window_size, min_samples=min_samples), \n",
    "        grouped_series.transform(\n",
    "            lambda x: x.rolling(window_size, min_periods=min_samples).agg(pandas_aggregation)\n",
    "        )\n",
    "    )\n",
    "\n",
    "    # min_samples = window_size\n",
    "    np.testing.assert_allclose(\n",
    "        seasonal_rolling(array, window_size=window_size),\n",
    "        grouped_series.transform(\n",
    "            lambda x: x.rolling(window_size).agg(pandas_aggregation))\n",
    "    )\n",
    "\n",
    "    # skip nas\n",
    "    np.testing.assert_allclose(\n",
    "        seasonal_rolling(array_with_nans, window_size=window_size, min_samples=min_samples),\n",
    "        grouped_series_with_nans.transform(\n",
    "            lambda x: x.rolling(window_size, min_periods=min_samples).agg(pandas_aggregation)\n",
    "        )\n",
    "    )\n",
    "\n",
    "    # |non-na-values| < min_samples\n",
    "    np.testing.assert_allclose(\n",
    "        seasonal_rolling(\n",
    "            array_with_nans[:number_of_nans + non_na_values],\n",
    "            window_size=non_na_values+2,\n",
    "            min_samples=non_na_values+1),\n",
    "        all_nans_array[:number_of_nans + non_na_values]\n",
    "    )\n",
    "\n",
    "    # min_samples < |non-na-values| < window_size\n",
    "    np.testing.assert_allclose(\n",
    "        seasonal_rolling(\n",
    "            array_with_nans[:number_of_nans + lower_bound_for_min_samples + 2*season_length], \n",
    "            window_size=lower_bound_for_min_samples + season_length,\n",
    "            min_samples=lower_bound_for_min_samples),\n",
    "        np.hstack((\n",
    "            all_nans_array[:number_of_nans], \n",
    "            seasonal_rolling(\n",
    "                array_with_nans[number_of_nans : number_of_nans + lower_bound_for_min_samples + 2*season_length], \n",
    "                window_size=lower_bound_for_min_samples + season_length,\n",
    "                min_samples=lower_bound_for_min_samples)\n",
    "        ))\n",
    "    )\n",
    "\n",
    "    # all-nan -> all-nan\n",
    "    np.testing.assert_equal(\n",
    "        seasonal_rolling(all_nans_array, window_size=window_size, min_samples=min_samples),\n",
    "        all_nans_array\n",
    "    )\n",
    "\n",
    "    \n",
    "def get_seasons(season_length, n_samples):\n",
    "    return np.arange(n_samples) % season_length\n",
    "\n",
    "season_length = 7\n",
    "grouped_series = series.groupby(get_seasons(season_length, series.size))\n",
    "grouped_series_with_nans = series_with_nans.groupby(get_seasons(season_length, series_with_nans.size))"
   ]
  },
  {
   "cell_type": "code",
   "execution_count": null,
   "metadata": {},
   "outputs": [],
   "source": [
    "#| export\n",
    "@njit\n",
    "@_seasonal_rolling_docstring\n",
    "def seasonal_rolling_mean(input_array: np.ndarray,\n",
    "                          season_length: int,\n",
    "                          window_size: int,\n",
    "                          min_samples: Optional[int] = None) -> np.ndarray:\n",
    "    return _seasonal_rolling_op(rolling_mean, input_array, season_length, window_size, min_samples)"
   ]
  },
  {
   "cell_type": "code",
   "execution_count": null,
   "metadata": {},
   "outputs": [],
   "source": [
    "#| hide\n",
    "test_seasonal_rolling_vs_pandas(partial(seasonal_rolling_mean, season_length=season_length), 'mean')"
   ]
  },
  {
   "cell_type": "code",
   "execution_count": null,
   "metadata": {},
   "outputs": [],
   "source": [
    "#| export\n",
    "@njit\n",
    "@_seasonal_rolling_docstring\n",
    "def seasonal_rolling_std(input_array: np.ndarray,\n",
    "                         season_length: int,\n",
    "                         window_size: int,\n",
    "                         min_samples: Optional[int] = None) -> np.ndarray:\n",
    "    return _seasonal_rolling_op(rolling_std, input_array, season_length, window_size, min_samples)"
   ]
  },
  {
   "cell_type": "code",
   "execution_count": null,
   "metadata": {},
   "outputs": [],
   "source": [
    "#| hide\n",
    "test_seasonal_rolling_vs_pandas(partial(seasonal_rolling_std, season_length=season_length), 'std', lower_bound_for_min_samples=2)"
   ]
  },
  {
   "cell_type": "code",
   "execution_count": null,
   "metadata": {},
   "outputs": [],
   "source": [
    "#| export\n",
    "@njit\n",
    "@_seasonal_rolling_docstring\n",
    "def seasonal_rolling_max(input_array: np.ndarray,\n",
    "                         season_length: int,\n",
    "                         window_size: int,\n",
    "                         min_samples: Optional[int] = None) -> np.ndarray:\n",
    "    return _seasonal_rolling_op(rolling_max, input_array, season_length, window_size, min_samples)"
   ]
  },
  {
   "cell_type": "code",
   "execution_count": null,
   "metadata": {},
   "outputs": [],
   "source": [
    "#| hide\n",
    "test_seasonal_rolling_vs_pandas(partial(seasonal_rolling_max, season_length=season_length), 'max')"
   ]
  },
  {
   "cell_type": "code",
   "execution_count": null,
   "metadata": {},
   "outputs": [],
   "source": [
    "#| export\n",
    "@njit\n",
    "@_seasonal_rolling_docstring\n",
    "def seasonal_rolling_min(x: np.ndarray,\n",
    "                         season_length: int,\n",
    "                         window_size: int,\n",
    "                         min_samples: Optional[int] = None) -> np.ndarray:\n",
    "    return _seasonal_rolling_op(rolling_min, x, season_length, window_size, min_samples)"
   ]
  },
  {
   "cell_type": "code",
   "execution_count": null,
   "metadata": {},
   "outputs": [],
   "source": [
    "#| hide\n",
    "test_seasonal_rolling_vs_pandas(partial(seasonal_rolling_min, season_length=season_length), 'min')"
   ]
  }
 ],
 "metadata": {
  "kernelspec": {
   "display_name": "python3",
   "language": "python",
   "name": "python3"
  }
 },
 "nbformat": 4,
 "nbformat_minor": 4
}
