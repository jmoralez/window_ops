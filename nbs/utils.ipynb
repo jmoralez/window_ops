{
 "cells": [
  {
   "cell_type": "raw",
   "metadata": {},
   "source": [
    "---\n",
    "output-file: utils.html\n",
    "title: Utils\n",
    "\n",
    "---\n",
    "\n"
   ]
  },
  {
   "cell_type": "code",
   "execution_count": null,
   "metadata": {},
   "outputs": [],
   "source": [
    "#| default_exp utils"
   ]
  },
  {
   "cell_type": "code",
   "execution_count": null,
   "metadata": {},
   "outputs": [],
   "source": [
    "#| exporti\n",
    "from math import sqrt\n",
    "from typing import Optional, Tuple\n",
    "\n",
    "import numpy as np\n",
    "from numba import njit  # type: ignore"
   ]
  },
  {
   "cell_type": "code",
   "execution_count": null,
   "metadata": {},
   "outputs": [],
   "source": [
    "#| exporti\n",
    "@njit\n",
    "def _validate_rolling_sizes(window_size: int,\n",
    "                            min_samples: Optional[int] = None) -> Tuple[int,int]:\n",
    "    # have to split the following if because of numba\n",
    "    if min_samples is None:\n",
    "        min_samples = window_size\n",
    "    if min_samples > window_size:\n",
    "        min_samples = window_size\n",
    "    return window_size, min_samples\n",
    "\n",
    "@njit\n",
    "def _gt(x: float, y: float) -> float:\n",
    "    return x - y\n",
    "\n",
    "@njit\n",
    "def _lt(x: float, y: float) -> float:\n",
    "    return -_gt(x, y)"
   ]
  },
  {
   "cell_type": "code",
   "execution_count": null,
   "metadata": {},
   "outputs": [],
   "source": [
    "#| export\n",
    "@njit\n",
    "def first_not_na(input_array: np.ndarray) -> int:\n",
    "    \"\"\"Returns the index of the first non-na value in the array.\"\"\"\n",
    "    for index, element in enumerate(input_array):\n",
    "        if not np.isnan(element):\n",
    "            return index\n",
    "    return input_array.size"
   ]
  }
 ],
 "metadata": {
  "kernelspec": {
   "display_name": "python3",
   "language": "python",
   "name": "python3"
  }
 },
 "nbformat": 4,
 "nbformat_minor": 4
}
