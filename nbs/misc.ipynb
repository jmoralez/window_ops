{
 "cells": [
  {
   "cell_type": "raw",
   "id": "8c7cd3f1-ddc5-4a5d-90bb-a8623a8b16d4",
   "metadata": {},
   "source": [
    "---\n",
    "description: Miscellaneous operations\n",
    "output-file: misc.html\n",
    "title: Misc\n",
    "\n",
    "---\n",
    "\n"
   ]
  },
  {
   "cell_type": "code",
   "execution_count": null,
   "id": "f8627627-ec45-48be-a50e-78a6aec8751c",
   "metadata": {},
   "outputs": [],
   "source": [
    "#| default_exp misc"
   ]
  },
  {
   "cell_type": "code",
   "execution_count": null,
   "id": "9c00e83b-ce0d-4755-b1ab-f9cb81ee4418",
   "metadata": {},
   "outputs": [],
   "source": [
    "#| export\n",
    "import numpy as np\n",
    "from numba import njit"
   ]
  },
  {
   "cell_type": "code",
   "execution_count": null,
   "id": "0d82ebf0-b2bb-4198-980b-5af4125417c7",
   "metadata": {},
   "outputs": [],
   "source": [
    "#| export\n",
    "@njit\n",
    "def average_days_with_sales(x: np.ndarray, lag: int) -> np.ndarray:\n",
    "    \"\"\"Calculates the average number of days with sales over a specified lag period.\n",
    "    Useful for understanding the sales frequency of each SKU.\n",
    "    \n",
    "    Parameters\n",
    "    ----------\n",
    "    x : np.ndarray\n",
    "        Array of sales data.\n",
    "    lag: int\n",
    "        The number of days to look back.\n",
    "    \n",
    "    Returns\n",
    "    -------\n",
    "    np.ndarray\n",
    "        Array with the average number of days with sales for each point in time.\n",
    "    \"\"\"\n",
    "    n = len(x)\n",
    "    result = np.zeros(n)  # Initializes the result with zeros instead of NaN\n",
    "    for i in range(lag - 1, n):\n",
    "        sum_positive_sales = np.sum(x[i - lag + 1:i + 1] > 0)\n",
    "        result[i] = sum_positive_sales / lag if lag > 0 else 0.0\n",
    "    return result"
   ]
  },
  {
   "cell_type": "code",
   "execution_count": null,
   "id": "5d5e4f80-8245-431d-8cb6-31a7db2d7a18",
   "metadata": {},
   "outputs": [
    {
     "data": {
      "text/plain": [
       "array([0., 0., 1., 1., 0.])"
      ]
     },
     "execution_count": null,
     "metadata": {},
     "output_type": "execute_result"
    }
   ],
   "source": [
    "#| hide\n",
    "average_days_with_sales(np.array([0, 0, 1, 2, 0]), 1)"
   ]
  },
  {
   "cell_type": "code",
   "execution_count": null,
   "id": "6c2cbe05-d415-4def-99ef-9dfc2e5d5a8a",
   "metadata": {},
   "outputs": [],
   "source": [
    "#| export\n",
    "@njit\n",
    "def linear_log_trend(x: np.ndarray) -> np.ndarray:\n",
    "    \"\"\"Generates a linear logarithmic trend for a time series.\n",
    "    \n",
    "    Parameters\n",
    "    ----------\n",
    "    x : np.ndarray\n",
    "        Array of time series data.\n",
    "    \n",
    "    Returns\n",
    "    -------\n",
    "    np.ndarray\n",
    "        Array representing the natural logarithm of each time point.\n",
    "    \"\"\"\n",
    "    n = len(x)\n",
    "    t = np.arange(1, n + 1)  # Creates a time array from 1 to n\n",
    "    log_trend = np.log(t)  # Calculates the natural logarithm of each time point\n",
    "    return log_trend"
   ]
  },
  {
   "cell_type": "code",
   "execution_count": null,
   "id": "cd0e7841-5eb2-483a-b0d4-1b04036234ee",
   "metadata": {},
   "outputs": [
    {
     "data": {
      "text/plain": [
       "array([0.        , 0.69314718, 1.09861229, 1.38629436, 1.60943791,\n",
       "       1.79175947, 1.94591015, 2.07944154, 2.19722458, 2.30258509])"
      ]
     },
     "execution_count": null,
     "metadata": {},
     "output_type": "execute_result"
    }
   ],
   "source": [
    "#| hide\n",
    "linear_log_trend(np.arange(10))"
   ]
  }
 ],
 "metadata": {
  "kernelspec": {
   "display_name": "python3",
   "language": "python",
   "name": "python3"
  }
 },
 "nbformat": 4,
 "nbformat_minor": 5
}
