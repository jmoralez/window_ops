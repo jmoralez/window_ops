{
 "cells": [
  {
   "cell_type": "raw",
   "metadata": {},
   "source": [
    "---\n",
    "description: Naive and fast implementations of common window operations.\n",
    "output-file: index.html\n",
    "title: Window ops\n",
    "---"
   ]
  },
  {
   "cell_type": "code",
   "execution_count": null,
   "metadata": {},
   "outputs": [],
   "source": [
    "#| include: false\n",
    "%load_ext autoreload\n",
    "%autoreload 2"
   ]
  },
  {
   "cell_type": "markdown",
   "metadata": {},
   "source": [
    "This library is intended to be used as an alternative to `pd.Series.rolling` and `pd.Series.expanding` to gain a speedup by using numba optimized functions operating on numpy arrays. There are also online classes for more efficient updates of window statistics."
   ]
  },
  {
   "cell_type": "markdown",
   "metadata": {},
   "source": [
    "## Install"
   ]
  },
  {
   "cell_type": "markdown",
   "metadata": {},
   "source": [
    "`pip install window-ops`"
   ]
  },
  {
   "cell_type": "markdown",
   "metadata": {},
   "source": [
    "## How to use"
   ]
  },
  {
   "cell_type": "markdown",
   "metadata": {},
   "source": [
    "### Transformations"
   ]
  },
  {
   "cell_type": "markdown",
   "metadata": {},
   "source": [
    "For a transformations `n_samples` -> `n_samples` you can use `[seasonal_](rolling|expanding)_(mean|max|min|std)` on an array."
   ]
  },
  {
   "cell_type": "markdown",
   "metadata": {},
   "source": [
    "#### Benchmarks"
   ]
  },
  {
   "cell_type": "code",
   "execution_count": null,
   "metadata": {},
   "outputs": [],
   "source": [
    "#| include: false\n",
    "import random\n",
    "import time\n",
    "from functools import partial\n",
    "\n",
    "import numpy as np\n",
    "import pandas as pd\n",
    "\n",
    "import window_ops\n",
    "from window_ops.ewm import *\n",
    "from window_ops.expanding import *\n",
    "from window_ops.online import *\n",
    "from window_ops.rolling import *"
   ]
  },
  {
   "cell_type": "code",
   "execution_count": null,
   "metadata": {},
   "outputs": [
    {
     "data": {
      "text/plain": [
       "'1.3.5'"
      ]
     },
     "execution_count": null,
     "metadata": {},
     "output_type": "execute_result"
    }
   ],
   "source": [
    "pd.__version__"
   ]
  },
  {
   "cell_type": "code",
   "execution_count": null,
   "metadata": {},
   "outputs": [],
   "source": [
    "n_samples = 10_000  # array size\n",
    "window_size = 8  # for rolling operations\n",
    "season_length = 7  # for seasonal operations\n",
    "execute_times = 10 # number of times each function will be executed"
   ]
  },
  {
   "cell_type": "code",
   "execution_count": null,
   "metadata": {},
   "outputs": [],
   "source": [
    "#| include: false\n",
    "np.random.seed(0)\n",
    "random.seed(0)\n",
    "y = np.random.rand(n_samples)\n",
    "ys = pd.Series(y)\n",
    "groups = np.arange(n_samples) % season_length\n",
    "grouped_y = ys.groupby(groups)"
   ]
  },
  {
   "cell_type": "code",
   "execution_count": null,
   "metadata": {},
   "outputs": [],
   "source": [
    "#| include: false\n",
    "times = {'window_ops': {}, 'pandas': {}}\n",
    "ops = ('mean', 'max', 'min', 'std')\n",
    "for kind in ('rolling', 'expanding', 'seasonal_rolling', 'seasonal_expanding'):\n",
    "    for op in ops:\n",
    "        functions = {}\n",
    "        if kind == 'rolling':\n",
    "            functions['window_ops'] = partial(getattr(window_ops.rolling, f'{kind}_{op}'), window_size=window_size)\n",
    "            functions['pandas'] = lambda y: y.rolling(window_size, min_periods=window_size).agg(op)\n",
    "        elif kind == 'expanding':\n",
    "            functions['window_ops'] = getattr(window_ops.expanding, f'{kind}_{op}')\n",
    "            functions['pandas'] = lambda y: y.expanding().agg(op)\n",
    "        elif kind == 'seasonal_rolling':\n",
    "            functions['window_ops'] = partial(getattr(window_ops.rolling, f'{kind}_{op}'), \n",
    "                                              season_length=season_length, window_size=window_size)\n",
    "            functions['pandas'] = lambda grouped_y: grouped_y.transform(lambda x: x.rolling(window_size).agg(op))\n",
    "        elif kind == 'seasonal_expanding':\n",
    "            functions['window_ops'] = partial(getattr(window_ops.expanding, f'{kind}_{op}'), season_length=season_length)\n",
    "            functions['pandas'] = lambda grouped_y: grouped_y.transform(lambda x: x.expanding().agg(op))\n",
    "        else:\n",
    "            raise ValueError(kind)\n",
    "            \n",
    "        results = {}            \n",
    "        for impl in ('window_ops', 'pandas'):\n",
    "            if impl == 'window_ops':\n",
    "                x = y\n",
    "            else:\n",
    "                x = grouped_y if kind.startswith('seasonal') else ys\n",
    "            func = functions[impl]\n",
    "            results[impl] = func(x)\n",
    "            start = time.perf_counter()\n",
    "            for _ in range(execute_times):\n",
    "                func(x)\n",
    "            times[impl][f'{kind}_{op}'] = time.perf_counter() - start\n",
    "        assert np.allclose(results['window_ops'], results['pandas'], equal_nan=True)\n",
    "times = pd.DataFrame(times) * 1_000 / execute_times"
   ]
  },
  {
   "cell_type": "markdown",
   "metadata": {},
   "source": [
    "Average times in milliseconds."
   ]
  },
  {
   "cell_type": "code",
   "execution_count": null,
   "metadata": {},
   "outputs": [
    {
     "data": {
      "text/html": [
       "<div>\n",
       "<style scoped>\n",
       "    .dataframe tbody tr th:only-of-type {\n",
       "        vertical-align: middle;\n",
       "    }\n",
       "\n",
       "    .dataframe tbody tr th {\n",
       "        vertical-align: top;\n",
       "    }\n",
       "\n",
       "    .dataframe thead th {\n",
       "        text-align: right;\n",
       "    }\n",
       "</style>\n",
       "<table border=\"1\" class=\"dataframe\">\n",
       "  <thead>\n",
       "    <tr style=\"text-align: right;\">\n",
       "      <th></th>\n",
       "      <th>window_ops</th>\n",
       "      <th>pandas</th>\n",
       "    </tr>\n",
       "  </thead>\n",
       "  <tbody>\n",
       "    <tr>\n",
       "      <th>rolling_mean</th>\n",
       "      <td>0.03</td>\n",
       "      <td>0.43</td>\n",
       "    </tr>\n",
       "    <tr>\n",
       "      <th>rolling_max</th>\n",
       "      <td>0.14</td>\n",
       "      <td>0.57</td>\n",
       "    </tr>\n",
       "    <tr>\n",
       "      <th>rolling_min</th>\n",
       "      <td>0.14</td>\n",
       "      <td>0.58</td>\n",
       "    </tr>\n",
       "    <tr>\n",
       "      <th>rolling_std</th>\n",
       "      <td>0.06</td>\n",
       "      <td>0.54</td>\n",
       "    </tr>\n",
       "    <tr>\n",
       "      <th>expanding_mean</th>\n",
       "      <td>0.03</td>\n",
       "      <td>0.31</td>\n",
       "    </tr>\n",
       "    <tr>\n",
       "      <th>expanding_max</th>\n",
       "      <td>0.05</td>\n",
       "      <td>0.76</td>\n",
       "    </tr>\n",
       "    <tr>\n",
       "      <th>expanding_min</th>\n",
       "      <td>0.05</td>\n",
       "      <td>0.47</td>\n",
       "    </tr>\n",
       "    <tr>\n",
       "      <th>expanding_std</th>\n",
       "      <td>0.09</td>\n",
       "      <td>0.41</td>\n",
       "    </tr>\n",
       "    <tr>\n",
       "      <th>seasonal_rolling_mean</th>\n",
       "      <td>0.05</td>\n",
       "      <td>3.89</td>\n",
       "    </tr>\n",
       "    <tr>\n",
       "      <th>seasonal_rolling_max</th>\n",
       "      <td>0.18</td>\n",
       "      <td>4.27</td>\n",
       "    </tr>\n",
       "    <tr>\n",
       "      <th>seasonal_rolling_min</th>\n",
       "      <td>0.18</td>\n",
       "      <td>3.75</td>\n",
       "    </tr>\n",
       "    <tr>\n",
       "      <th>seasonal_rolling_std</th>\n",
       "      <td>0.08</td>\n",
       "      <td>4.38</td>\n",
       "    </tr>\n",
       "    <tr>\n",
       "      <th>seasonal_expanding_mean</th>\n",
       "      <td>0.04</td>\n",
       "      <td>3.18</td>\n",
       "    </tr>\n",
       "    <tr>\n",
       "      <th>seasonal_expanding_max</th>\n",
       "      <td>0.06</td>\n",
       "      <td>3.29</td>\n",
       "    </tr>\n",
       "    <tr>\n",
       "      <th>seasonal_expanding_min</th>\n",
       "      <td>0.06</td>\n",
       "      <td>3.28</td>\n",
       "    </tr>\n",
       "    <tr>\n",
       "      <th>seasonal_expanding_std</th>\n",
       "      <td>0.12</td>\n",
       "      <td>3.89</td>\n",
       "    </tr>\n",
       "  </tbody>\n",
       "</table>\n",
       "</div>"
      ],
      "text/plain": [
       "                        window_ops pandas\n",
       "rolling_mean                  0.03   0.43\n",
       "rolling_max                   0.14   0.57\n",
       "rolling_min                   0.14   0.58\n",
       "rolling_std                   0.06   0.54\n",
       "expanding_mean                0.03   0.31\n",
       "expanding_max                 0.05   0.76\n",
       "expanding_min                 0.05   0.47\n",
       "expanding_std                 0.09   0.41\n",
       "seasonal_rolling_mean         0.05   3.89\n",
       "seasonal_rolling_max          0.18   4.27\n",
       "seasonal_rolling_min          0.18   3.75\n",
       "seasonal_rolling_std          0.08   4.38\n",
       "seasonal_expanding_mean       0.04   3.18\n",
       "seasonal_expanding_max        0.06   3.29\n",
       "seasonal_expanding_min        0.06   3.28\n",
       "seasonal_expanding_std        0.12   3.89"
      ]
     },
     "execution_count": null,
     "metadata": {},
     "output_type": "execute_result"
    }
   ],
   "source": [
    "times.applymap('{:.2f}'.format)"
   ]
  },
  {
   "cell_type": "code",
   "execution_count": null,
   "metadata": {},
   "outputs": [
    {
     "data": {
      "text/html": [
       "<div>\n",
       "<style scoped>\n",
       "    .dataframe tbody tr th:only-of-type {\n",
       "        vertical-align: middle;\n",
       "    }\n",
       "\n",
       "    .dataframe tbody tr th {\n",
       "        vertical-align: top;\n",
       "    }\n",
       "\n",
       "    .dataframe thead th {\n",
       "        text-align: right;\n",
       "    }\n",
       "</style>\n",
       "<table border=\"1\" class=\"dataframe\">\n",
       "  <thead>\n",
       "    <tr style=\"text-align: right;\">\n",
       "      <th></th>\n",
       "      <th>times faster</th>\n",
       "    </tr>\n",
       "  </thead>\n",
       "  <tbody>\n",
       "    <tr>\n",
       "      <th>rolling_mean</th>\n",
       "      <td>15</td>\n",
       "    </tr>\n",
       "    <tr>\n",
       "      <th>rolling_max</th>\n",
       "      <td>4</td>\n",
       "    </tr>\n",
       "    <tr>\n",
       "      <th>rolling_min</th>\n",
       "      <td>4</td>\n",
       "    </tr>\n",
       "    <tr>\n",
       "      <th>rolling_std</th>\n",
       "      <td>9</td>\n",
       "    </tr>\n",
       "    <tr>\n",
       "      <th>expanding_mean</th>\n",
       "      <td>12</td>\n",
       "    </tr>\n",
       "    <tr>\n",
       "      <th>expanding_max</th>\n",
       "      <td>15</td>\n",
       "    </tr>\n",
       "    <tr>\n",
       "      <th>expanding_min</th>\n",
       "      <td>9</td>\n",
       "    </tr>\n",
       "    <tr>\n",
       "      <th>expanding_std</th>\n",
       "      <td>4</td>\n",
       "    </tr>\n",
       "    <tr>\n",
       "      <th>seasonal_rolling_mean</th>\n",
       "      <td>77</td>\n",
       "    </tr>\n",
       "    <tr>\n",
       "      <th>seasonal_rolling_max</th>\n",
       "      <td>23</td>\n",
       "    </tr>\n",
       "    <tr>\n",
       "      <th>seasonal_rolling_min</th>\n",
       "      <td>21</td>\n",
       "    </tr>\n",
       "    <tr>\n",
       "      <th>seasonal_rolling_std</th>\n",
       "      <td>52</td>\n",
       "    </tr>\n",
       "    <tr>\n",
       "      <th>seasonal_expanding_mean</th>\n",
       "      <td>78</td>\n",
       "    </tr>\n",
       "    <tr>\n",
       "      <th>seasonal_expanding_max</th>\n",
       "      <td>52</td>\n",
       "    </tr>\n",
       "    <tr>\n",
       "      <th>seasonal_expanding_min</th>\n",
       "      <td>51</td>\n",
       "    </tr>\n",
       "    <tr>\n",
       "      <th>seasonal_expanding_std</th>\n",
       "      <td>33</td>\n",
       "    </tr>\n",
       "  </tbody>\n",
       "</table>\n",
       "</div>"
      ],
      "text/plain": [
       "                        times faster\n",
       "rolling_mean                      15\n",
       "rolling_max                        4\n",
       "rolling_min                        4\n",
       "rolling_std                        9\n",
       "expanding_mean                    12\n",
       "expanding_max                     15\n",
       "expanding_min                      9\n",
       "expanding_std                      4\n",
       "seasonal_rolling_mean             77\n",
       "seasonal_rolling_max              23\n",
       "seasonal_rolling_min              21\n",
       "seasonal_rolling_std              52\n",
       "seasonal_expanding_mean           78\n",
       "seasonal_expanding_max            52\n",
       "seasonal_expanding_min            51\n",
       "seasonal_expanding_std            33"
      ]
     },
     "execution_count": null,
     "metadata": {},
     "output_type": "execute_result"
    }
   ],
   "source": [
    "speedups = times['pandas'] / times['window_ops']\n",
    "speedups = speedups.to_frame('times faster')\n",
    "speedups.applymap('{:.0f}'.format)"
   ]
  },
  {
   "cell_type": "markdown",
   "metadata": {},
   "source": [
    "### Online"
   ]
  },
  {
   "cell_type": "markdown",
   "metadata": {},
   "source": [
    "If you have an array for which you want to compute a window statistic and then keep updating it as more samples come in you can use the classes in the `window_ops.online` module. They all have a `fit_transform` method which take the array and return the transformations defined above but also have an `update` method that take a single value and return the new statistic."
   ]
  },
  {
   "cell_type": "code",
   "execution_count": null,
   "metadata": {},
   "outputs": [],
   "source": [
    "#| include: false\n",
    "times = {}\n",
    "ops = ('mean', 'max', 'min', 'std')\n",
    "online_class = None\n",
    "for kind in ('Rolling', 'Expanding', 'SeasonalRolling', 'SeasonalExpanding'):\n",
    "    for op in ops:\n",
    "        if kind == 'Rolling':\n",
    "            online_class = getattr(window_ops.online, f'{kind}{op.title()}')(window_size=window_size)\n",
    "        elif kind == 'Expanding':\n",
    "            online_class = getattr(window_ops.online, f'{kind}{op.title()}')()\n",
    "        elif kind == 'SeasonalRolling':\n",
    "            online_class = getattr(window_ops.online, f'{kind}{op.title()}')(season_length=season_length, window_size=window_size)\n",
    "        elif kind == 'SeasonalExpanding':\n",
    "            online_class = getattr(window_ops.online, f'{kind}{op.title()}')(season_length=season_length)\n",
    "        else:\n",
    "            raise ValueError(kind)\n",
    "        \n",
    "        # compile\n",
    "        online_class.fit_transform(y)\n",
    "        \n",
    "        start = time.perf_counter()\n",
    "        for _ in range(execute_times):\n",
    "            online_class.fit_transform(y)\n",
    "            for i in range(100):\n",
    "                online_class.update(i)\n",
    "        times[f'{kind}{op.title()}'] = time.perf_counter() - start\n",
    "times = pd.Series(times, name='average time (ms)') * 1_000 / execute_times"
   ]
  },
  {
   "cell_type": "markdown",
   "metadata": {},
   "source": [
    "#### Benchmarks"
   ]
  },
  {
   "cell_type": "markdown",
   "metadata": {},
   "source": [
    "Average time in milliseconds it takes to transform the array and perform 100 updates."
   ]
  },
  {
   "cell_type": "code",
   "execution_count": null,
   "metadata": {},
   "outputs": [
    {
     "data": {
      "text/html": [
       "<div>\n",
       "<style scoped>\n",
       "    .dataframe tbody tr th:only-of-type {\n",
       "        vertical-align: middle;\n",
       "    }\n",
       "\n",
       "    .dataframe tbody tr th {\n",
       "        vertical-align: top;\n",
       "    }\n",
       "\n",
       "    .dataframe thead th {\n",
       "        text-align: right;\n",
       "    }\n",
       "</style>\n",
       "<table border=\"1\" class=\"dataframe\">\n",
       "  <thead>\n",
       "    <tr style=\"text-align: right;\">\n",
       "      <th></th>\n",
       "      <th>average time (ms)</th>\n",
       "    </tr>\n",
       "  </thead>\n",
       "  <tbody>\n",
       "    <tr>\n",
       "      <th>RollingMean</th>\n",
       "      <td>0.12</td>\n",
       "    </tr>\n",
       "    <tr>\n",
       "      <th>RollingMax</th>\n",
       "      <td>0.23</td>\n",
       "    </tr>\n",
       "    <tr>\n",
       "      <th>RollingMin</th>\n",
       "      <td>0.22</td>\n",
       "    </tr>\n",
       "    <tr>\n",
       "      <th>RollingStd</th>\n",
       "      <td>0.32</td>\n",
       "    </tr>\n",
       "    <tr>\n",
       "      <th>ExpandingMean</th>\n",
       "      <td>0.10</td>\n",
       "    </tr>\n",
       "    <tr>\n",
       "      <th>ExpandingMax</th>\n",
       "      <td>0.07</td>\n",
       "    </tr>\n",
       "    <tr>\n",
       "      <th>ExpandingMin</th>\n",
       "      <td>0.07</td>\n",
       "    </tr>\n",
       "    <tr>\n",
       "      <th>ExpandingStd</th>\n",
       "      <td>0.17</td>\n",
       "    </tr>\n",
       "    <tr>\n",
       "      <th>SeasonalRollingMean</th>\n",
       "      <td>0.28</td>\n",
       "    </tr>\n",
       "    <tr>\n",
       "      <th>SeasonalRollingMax</th>\n",
       "      <td>0.35</td>\n",
       "    </tr>\n",
       "    <tr>\n",
       "      <th>SeasonalRollingMin</th>\n",
       "      <td>0.38</td>\n",
       "    </tr>\n",
       "    <tr>\n",
       "      <th>SeasonalRollingStd</th>\n",
       "      <td>0.42</td>\n",
       "    </tr>\n",
       "    <tr>\n",
       "      <th>SeasonalExpandingMean</th>\n",
       "      <td>0.17</td>\n",
       "    </tr>\n",
       "    <tr>\n",
       "      <th>SeasonalExpandingMax</th>\n",
       "      <td>0.14</td>\n",
       "    </tr>\n",
       "    <tr>\n",
       "      <th>SeasonalExpandingMin</th>\n",
       "      <td>0.15</td>\n",
       "    </tr>\n",
       "    <tr>\n",
       "      <th>SeasonalExpandingStd</th>\n",
       "      <td>0.23</td>\n",
       "    </tr>\n",
       "  </tbody>\n",
       "</table>\n",
       "</div>"
      ],
      "text/plain": [
       "                      average time (ms)\n",
       "RollingMean                        0.12\n",
       "RollingMax                         0.23\n",
       "RollingMin                         0.22\n",
       "RollingStd                         0.32\n",
       "ExpandingMean                      0.10\n",
       "ExpandingMax                       0.07\n",
       "ExpandingMin                       0.07\n",
       "ExpandingStd                       0.17\n",
       "SeasonalRollingMean                0.28\n",
       "SeasonalRollingMax                 0.35\n",
       "SeasonalRollingMin                 0.38\n",
       "SeasonalRollingStd                 0.42\n",
       "SeasonalExpandingMean              0.17\n",
       "SeasonalExpandingMax               0.14\n",
       "SeasonalExpandingMin               0.15\n",
       "SeasonalExpandingStd               0.23"
      ]
     },
     "execution_count": null,
     "metadata": {},
     "output_type": "execute_result"
    }
   ],
   "source": [
    "times.to_frame().applymap('{:.2f}'.format)"
   ]
  }
 ],
 "metadata": {
  "kernelspec": {
   "display_name": "python3",
   "language": "python",
   "name": "python3"
  }
 },
 "nbformat": 4,
 "nbformat_minor": 4
}
