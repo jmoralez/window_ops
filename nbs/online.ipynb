{
 "cells": [
  {
   "cell_type": "raw",
   "metadata": {},
   "source": [
    "---\n",
    "description: Online window operations\n",
    "output-file: online.html\n",
    "title: Online\n",
    "---"
   ]
  },
  {
   "cell_type": "code",
   "execution_count": null,
   "metadata": {},
   "outputs": [],
   "source": [
    "#| default_exp online"
   ]
  },
  {
   "cell_type": "code",
   "execution_count": null,
   "metadata": {},
   "outputs": [],
   "source": [
    "#| include: false\n",
    "%load_ext autoreload\n",
    "%autoreload 2"
   ]
  },
  {
   "cell_type": "code",
   "execution_count": null,
   "metadata": {},
   "outputs": [],
   "source": [
    "#| export\n",
    "import abc\n",
    "from math import sqrt\n",
    "from typing import Callable, Optional\n",
    "\n",
    "import numpy as np\n",
    "\n",
    "from window_ops.expanding import (\n",
    "    expanding_max,\n",
    "    expanding_min,\n",
    "    expanding_mean,\n",
    ")\n",
    "from window_ops.ewm import ewm_mean\n",
    "from window_ops.rolling import (\n",
    "    _rolling_std,\n",
    "    rolling_max,\n",
    "    rolling_mean,\n",
    "    rolling_min,\n",
    ")\n",
    "from window_ops.shift import shift_array"
   ]
  },
  {
   "cell_type": "code",
   "execution_count": null,
   "metadata": {},
   "outputs": [],
   "source": [
    "from window_ops.expanding import (\n",
    "    expanding_std,\n",
    "    seasonal_expanding_max,\n",
    "    seasonal_expanding_min,\n",
    "    seasonal_expanding_mean,\n",
    "    seasonal_expanding_std,\n",
    ")\n",
    "from window_ops.rolling import (\n",
    "    rolling_std,\n",
    "    seasonal_rolling_max,\n",
    "    seasonal_rolling_mean,\n",
    "    seasonal_rolling_min,\n",
    "    seasonal_rolling_std,\n",
    ")"
   ]
  },
  {
   "cell_type": "code",
   "execution_count": null,
   "metadata": {},
   "outputs": [],
   "source": [
    "np.random.seed(0)\n",
    "y = np.random.rand(100)"
   ]
  },
  {
   "cell_type": "code",
   "execution_count": null,
   "metadata": {},
   "outputs": [],
   "source": [
    "def test_online(OnlineOp, regular_op, y, n_updates=10, **op_kwargs):\n",
    "    expected = regular_op(y, **op_kwargs)\n",
    "    online = OnlineOp(**op_kwargs)\n",
    "    calculated = online.fit_transform(y[:-n_updates]).tolist()\n",
    "    for i in range(y.size - n_updates, y.size):\n",
    "        calculated.append(online.update(y[i]))\n",
    "    np.testing.assert_allclose(calculated, expected)"
   ]
  },
  {
   "cell_type": "markdown",
   "metadata": {},
   "source": [
    "## Rolling"
   ]
  },
  {
   "cell_type": "markdown",
   "metadata": {},
   "source": [
    "### Regular"
   ]
  },
  {
   "cell_type": "code",
   "execution_count": null,
   "metadata": {},
   "outputs": [],
   "source": [
    "#| exporti\n",
    "class BaseOnlineRolling(abc.ABC):\n",
    "    \n",
    "    def __init__(self, rolling_op: Callable, window_size: int, min_samples: Optional[int] = None):\n",
    "        self.rolling_op = rolling_op\n",
    "        self.window_size = window_size\n",
    "        self.min_samples = min_samples or window_size\n",
    "        \n",
    "    def fit_transform(self, x: np.ndarray) -> np.ndarray:\n",
    "        self.window = tuple(x[-self.window_size:])\n",
    "        return self.rolling_op(x, self.window_size, self.min_samples)\n",
    "    \n",
    "    @abc.abstractmethod\n",
    "    def _update_op(self):\n",
    "        ...\n",
    "    \n",
    "    def update(self, new: float) -> float:\n",
    "        if len(self.window) < self.window_size:\n",
    "            self.window += (new,)\n",
    "            if len(self.window) < self.min_samples:\n",
    "                return np.nan\n",
    "        else:\n",
    "            self.window = self.window[1:] + (new,)\n",
    "        return self._update_op()"
   ]
  },
  {
   "cell_type": "code",
   "execution_count": null,
   "metadata": {},
   "outputs": [],
   "source": [
    "#| export\n",
    "class RollingMean(BaseOnlineRolling):\n",
    "    \n",
    "    def __init__(self, window_size: int, min_samples: Optional[int] = None):\n",
    "        super().__init__(rolling_mean, window_size, min_samples)\n",
    "    \n",
    "    def _update_op(self) -> float:\n",
    "        return sum(self.window) / len(self.window)"
   ]
  },
  {
   "cell_type": "code",
   "execution_count": null,
   "metadata": {},
   "outputs": [],
   "source": [
    "test_online(RollingMean, rolling_mean, y, window_size=4, min_samples=1)\n",
    "test_online(RollingMean, rolling_mean, y, n_updates=90, window_size=14, min_samples=3)\n",
    "test_online(RollingMean, rolling_mean, y, n_updates=96, window_size=7, min_samples=7)"
   ]
  },
  {
   "cell_type": "code",
   "execution_count": null,
   "metadata": {},
   "outputs": [],
   "source": [
    "#| export\n",
    "class RollingMax(BaseOnlineRolling):\n",
    "    \n",
    "    def __init__(self, window_size: int, min_samples: Optional[int] = None):\n",
    "        super().__init__(rolling_max, window_size, min_samples)\n",
    "    \n",
    "    def _update_op(self) -> float:\n",
    "        return max(self.window)"
   ]
  },
  {
   "cell_type": "code",
   "execution_count": null,
   "metadata": {},
   "outputs": [],
   "source": [
    "test_online(RollingMax, rolling_max, y, window_size=4, min_samples=1)\n",
    "test_online(RollingMax, rolling_max, y, n_updates=90, window_size=14, min_samples=3)\n",
    "test_online(RollingMax, rolling_max, y, n_updates=96, window_size=7, min_samples=7)"
   ]
  },
  {
   "cell_type": "code",
   "execution_count": null,
   "metadata": {},
   "outputs": [],
   "source": [
    "#| export\n",
    "class RollingMin(BaseOnlineRolling):\n",
    "    \n",
    "    def __init__(self, window_size: int, min_samples: Optional[int] = None):\n",
    "        super().__init__(rolling_min, window_size, min_samples)\n",
    "    \n",
    "    def _update_op(self) -> float:\n",
    "        return min(self.window)"
   ]
  },
  {
   "cell_type": "code",
   "execution_count": null,
   "metadata": {},
   "outputs": [],
   "source": [
    "test_online(RollingMin, rolling_min, y, window_size=4, min_samples=1)\n",
    "test_online(RollingMin, rolling_min, y, n_updates=90, window_size=14, min_samples=3)\n",
    "test_online(RollingMin, rolling_min, y, n_updates=96, window_size=7, min_samples=7)"
   ]
  },
  {
   "cell_type": "code",
   "execution_count": null,
   "metadata": {},
   "outputs": [],
   "source": [
    "#| export\n",
    "class RollingStd:\n",
    "    \n",
    "    def __init__(self, window_size: int, min_samples: Optional[int] = None):\n",
    "        self.window_size = window_size\n",
    "        self.min_samples = min_samples or window_size        \n",
    "        \n",
    "    def fit_transform(self, x: np.ndarray) -> np.ndarray:\n",
    "        result, self.curr_avg, self.m2 = _rolling_std(x, self.window_size, self.min_samples)\n",
    "        if x.size < self.min_samples:\n",
    "            _, self.curr_avg, self.m2 = _rolling_std(x, self.window_size, 2)\n",
    "        self.window = tuple(x[-self.window_size:])\n",
    "        return result\n",
    "    \n",
    "    def update(self, new: float) -> float:\n",
    "        prev_avg = self.curr_avg\n",
    "        if len(self.window) < self.window_size:\n",
    "            self.window += (new,)\n",
    "            self.curr_avg = prev_avg + (new - prev_avg) /  len(self.window)\n",
    "            self.m2 += (new - prev_avg) * (new - self.curr_avg)\n",
    "        else:\n",
    "            old = self.window[0]\n",
    "            self.window = self.window[1:] + (new,)\n",
    "            self.curr_avg = prev_avg + (new - old) / len(self.window)\n",
    "            self.m2 += (new - old) * (new - self.curr_avg + old - prev_avg)\n",
    "        if len(self.window) < self.min_samples:\n",
    "            return np.nan\n",
    "        self.m2 = max(self.m2, 0) # loss of precision        \n",
    "        return sqrt(self.m2 / (len(self.window) - 1))"
   ]
  },
  {
   "cell_type": "code",
   "execution_count": null,
   "metadata": {},
   "outputs": [],
   "source": [
    "test_online(RollingStd, rolling_std, y, window_size=4, min_samples=2)\n",
    "test_online(RollingStd, rolling_std, y, n_updates=90, window_size=14, min_samples=3)\n",
    "test_online(RollingStd, rolling_std, y, n_updates=96, window_size=7, min_samples=7)"
   ]
  },
  {
   "cell_type": "code",
   "execution_count": null,
   "metadata": {},
   "outputs": [],
   "source": [
    "online_std = RollingStd(7)\n",
    "online_std.fit_transform(y)\n",
    "for _ in range(14):\n",
    "    online_std.update(0)"
   ]
  },
  {
   "cell_type": "markdown",
   "metadata": {},
   "source": [
    "### Seasonal"
   ]
  },
  {
   "cell_type": "code",
   "execution_count": null,
   "metadata": {},
   "outputs": [],
   "source": [
    "#| exporti\n",
    "class BaseOnlineSeasonalRolling:\n",
    "\n",
    "    def __init__(self,\n",
    "                 RollingOp: type,\n",
    "                 season_length: int,\n",
    "                 window_size: int,\n",
    "                 min_samples: Optional[int] = None):\n",
    "        self.RollingOp = RollingOp\n",
    "        self.season_length = season_length\n",
    "        self.window_size = window_size\n",
    "        self.min_samples = min_samples\n",
    "\n",
    "    def fit_transform(self, x: np.ndarray) -> np.ndarray:\n",
    "        self.rolling_ops = []\n",
    "        self.n_samples = x.size\n",
    "        result = np.full_like(x, np.nan)\n",
    "        for season in range(self.season_length):\n",
    "            rolling_op = self.RollingOp(window_size=self.window_size, min_samples=self.min_samples)\n",
    "            result[season::self.season_length] = rolling_op.fit_transform(x[season::self.season_length])\n",
    "            self.rolling_ops.append(rolling_op)\n",
    "        return result\n",
    "\n",
    "    def update(self, new: float) -> float:\n",
    "        season = self.n_samples % self.season_length\n",
    "        self.n_samples += 1\n",
    "        return self.rolling_ops[season].update(new)"
   ]
  },
  {
   "cell_type": "code",
   "execution_count": null,
   "metadata": {},
   "outputs": [],
   "source": [
    "#| export\n",
    "class SeasonalRollingMean(BaseOnlineSeasonalRolling):\n",
    "    \n",
    "    def __init__(self,\n",
    "                 season_length: int,\n",
    "                 window_size: int,\n",
    "                 min_samples: Optional[int] = None):\n",
    "        super().__init__(RollingMean, season_length, window_size, min_samples)"
   ]
  },
  {
   "cell_type": "code",
   "execution_count": null,
   "metadata": {},
   "outputs": [],
   "source": [
    "test_online(SeasonalRollingMean, seasonal_rolling_mean, y, window_size=4, min_samples=1, season_length=7)\n",
    "test_online(SeasonalRollingMean, seasonal_rolling_mean, y, n_updates=79, window_size=4, min_samples=2, season_length=7)"
   ]
  },
  {
   "cell_type": "code",
   "execution_count": null,
   "metadata": {},
   "outputs": [],
   "source": [
    "#| export\n",
    "class SeasonalRollingStd(BaseOnlineSeasonalRolling):\n",
    "    \n",
    "    def __init__(self,\n",
    "                 season_length: int,\n",
    "                 window_size: int,\n",
    "                 min_samples: Optional[int] = None):\n",
    "        super().__init__(RollingStd, season_length, window_size, min_samples)"
   ]
  },
  {
   "cell_type": "code",
   "execution_count": null,
   "metadata": {},
   "outputs": [],
   "source": [
    "test_online(SeasonalRollingStd, seasonal_rolling_std, y, window_size=4, min_samples=2, season_length=7)\n",
    "test_online(SeasonalRollingStd, seasonal_rolling_std, y, n_updates=79, window_size=4, min_samples=2, season_length=7)"
   ]
  },
  {
   "cell_type": "code",
   "execution_count": null,
   "metadata": {},
   "outputs": [],
   "source": [
    "#| export\n",
    "class SeasonalRollingMin(BaseOnlineSeasonalRolling):\n",
    "    \n",
    "    def __init__(self,\n",
    "                 season_length: int,\n",
    "                 window_size: int,\n",
    "                 min_samples: Optional[int] = None):\n",
    "        super().__init__(RollingMin, season_length, window_size, min_samples)"
   ]
  },
  {
   "cell_type": "code",
   "execution_count": null,
   "metadata": {},
   "outputs": [],
   "source": [
    "test_online(SeasonalRollingMin, seasonal_rolling_min, y, window_size=4, min_samples=1, season_length=7)\n",
    "test_online(SeasonalRollingMin, seasonal_rolling_min, y, n_updates=79, window_size=4, min_samples=2, season_length=7)"
   ]
  },
  {
   "cell_type": "code",
   "execution_count": null,
   "metadata": {},
   "outputs": [],
   "source": [
    "#| export\n",
    "class SeasonalRollingMax(BaseOnlineSeasonalRolling):\n",
    "    \n",
    "    def __init__(self,\n",
    "                 season_length: int,\n",
    "                 window_size: int,\n",
    "                 min_samples: Optional[int] = None):\n",
    "        super().__init__(RollingMax, season_length, window_size, min_samples)"
   ]
  },
  {
   "cell_type": "code",
   "execution_count": null,
   "metadata": {},
   "outputs": [],
   "source": [
    "test_online(SeasonalRollingMax, seasonal_rolling_max, y, window_size=4, min_samples=1, season_length=7)\n",
    "test_online(SeasonalRollingMax, seasonal_rolling_max, y, n_updates=79, window_size=4, min_samples=2, season_length=7)"
   ]
  },
  {
   "cell_type": "markdown",
   "metadata": {},
   "source": [
    "## Expanding"
   ]
  },
  {
   "cell_type": "markdown",
   "metadata": {},
   "source": [
    "### Regular"
   ]
  },
  {
   "cell_type": "code",
   "execution_count": null,
   "metadata": {},
   "outputs": [],
   "source": [
    "#| export\n",
    "class ExpandingMean:\n",
    "    \n",
    "    def fit_transform(self, x: np.ndarray) -> np.ndarray:\n",
    "        exp_mean = expanding_mean(x)\n",
    "        self.n = x.size\n",
    "        self.cumsum = exp_mean[-1] * self.n\n",
    "        return exp_mean\n",
    "        \n",
    "    def update(self, x: float) -> float:\n",
    "        self.cumsum += x\n",
    "        self.n += 1\n",
    "        return self.cumsum / self.n"
   ]
  },
  {
   "cell_type": "code",
   "execution_count": null,
   "metadata": {},
   "outputs": [],
   "source": [
    "np.random.seed(0)\n",
    "y = np.random.rand(100)"
   ]
  },
  {
   "cell_type": "code",
   "execution_count": null,
   "metadata": {},
   "outputs": [],
   "source": [
    "test_online(ExpandingMean, expanding_mean, y)"
   ]
  },
  {
   "cell_type": "code",
   "execution_count": null,
   "metadata": {},
   "outputs": [],
   "source": [
    "#| export\n",
    "class ExpandingMax:\n",
    "    \n",
    "    def fit_transform(self, x: np.ndarray) -> np.ndarray:\n",
    "        exp_max = expanding_max(x)\n",
    "        self.max = exp_max[-1]\n",
    "        return exp_max\n",
    "        \n",
    "    def update(self, x: float) -> float:\n",
    "        if x > self.max:\n",
    "            self.max = x\n",
    "        return self.max"
   ]
  },
  {
   "cell_type": "code",
   "execution_count": null,
   "metadata": {},
   "outputs": [],
   "source": [
    "test_online(ExpandingMax, expanding_max, y)"
   ]
  },
  {
   "cell_type": "code",
   "execution_count": null,
   "metadata": {},
   "outputs": [],
   "source": [
    "#| export\n",
    "class ExpandingMin:\n",
    "    \n",
    "    def fit_transform(self, x: np.ndarray) -> np.ndarray:\n",
    "        exp_min = expanding_min(x)\n",
    "        self.min = exp_min[-1]\n",
    "        return exp_min\n",
    "        \n",
    "    def update(self, x: float) -> float:\n",
    "        if x < self.min:\n",
    "            self.min = x\n",
    "        return self.min"
   ]
  },
  {
   "cell_type": "code",
   "execution_count": null,
   "metadata": {},
   "outputs": [],
   "source": [
    "test_online(ExpandingMin, expanding_min, y)"
   ]
  },
  {
   "cell_type": "code",
   "execution_count": null,
   "metadata": {},
   "outputs": [],
   "source": [
    "#| export\n",
    "class ExpandingStd:\n",
    "    \n",
    "    def fit_transform(self, x):\n",
    "        self.n = x.size\n",
    "        exp_std, self.curr_avg, self.x_m2n = _rolling_std(x,\n",
    "                                                          window_size=self.n,\n",
    "                                                          min_samples=2)\n",
    "        return exp_std\n",
    "    \n",
    "    def update(self, x):\n",
    "        prev_avg = self.curr_avg\n",
    "        self.n += 1\n",
    "        self.curr_avg = prev_avg + (x - prev_avg) / self.n\n",
    "        self.x_m2n += (x - prev_avg) * (x - self.curr_avg)\n",
    "        return sqrt(self.x_m2n / (self. n - 1))"
   ]
  },
  {
   "cell_type": "code",
   "execution_count": null,
   "metadata": {},
   "outputs": [],
   "source": [
    "test_online(ExpandingStd, expanding_std, y)"
   ]
  },
  {
   "cell_type": "markdown",
   "metadata": {},
   "source": [
    "### Seasonal"
   ]
  },
  {
   "cell_type": "code",
   "execution_count": null,
   "metadata": {},
   "outputs": [],
   "source": [
    "#| exporti\n",
    "class BaseSeasonalExpanding:\n",
    "\n",
    "    def __init__(self,\n",
    "                 ExpandingOp: type,\n",
    "                 season_length: int):\n",
    "        self.ExpandingOp = ExpandingOp\n",
    "        self.season_length = season_length\n",
    "\n",
    "    def fit_transform(self, x: np.ndarray) -> np.ndarray:\n",
    "        self.expanding_ops = []\n",
    "        self.n_samples = x.size\n",
    "        result = np.empty(self.n_samples)\n",
    "        for season in range(self.season_length):\n",
    "            exp_op = self.ExpandingOp()\n",
    "            result[season::self.season_length] = exp_op.fit_transform(x[season::self.season_length])\n",
    "            self.expanding_ops.append(exp_op)\n",
    "        return result\n",
    "\n",
    "    def update(self, x: float) -> float:\n",
    "        season = self.n_samples % self.season_length\n",
    "        self.n_samples += 1\n",
    "        return self.expanding_ops[season].update(x)"
   ]
  },
  {
   "cell_type": "code",
   "execution_count": null,
   "metadata": {},
   "outputs": [],
   "source": [
    "#| export\n",
    "class SeasonalExpandingMean(BaseSeasonalExpanding):\n",
    "    \n",
    "    def __init__(self, season_length: int):\n",
    "        super().__init__(ExpandingMean, season_length)"
   ]
  },
  {
   "cell_type": "code",
   "execution_count": null,
   "metadata": {},
   "outputs": [],
   "source": [
    "test_online(SeasonalExpandingMean, seasonal_expanding_mean, y, season_length=7)"
   ]
  },
  {
   "cell_type": "code",
   "execution_count": null,
   "metadata": {},
   "outputs": [],
   "source": [
    "#| export\n",
    "class SeasonalExpandingStd(BaseSeasonalExpanding):\n",
    "    \n",
    "    def __init__(self, season_length: int):\n",
    "        super().__init__(ExpandingStd, season_length)"
   ]
  },
  {
   "cell_type": "code",
   "execution_count": null,
   "metadata": {},
   "outputs": [],
   "source": [
    "test_online(SeasonalExpandingStd, seasonal_expanding_std, y, season_length=7)"
   ]
  },
  {
   "cell_type": "code",
   "execution_count": null,
   "metadata": {},
   "outputs": [],
   "source": [
    "#| export\n",
    "class SeasonalExpandingMin(BaseSeasonalExpanding):\n",
    "    \n",
    "    def __init__(self, season_length: int):\n",
    "        super().__init__(ExpandingMin, season_length)"
   ]
  },
  {
   "cell_type": "code",
   "execution_count": null,
   "metadata": {},
   "outputs": [],
   "source": [
    "test_online(SeasonalExpandingMin, seasonal_expanding_min, y, season_length=7)"
   ]
  },
  {
   "cell_type": "code",
   "execution_count": null,
   "metadata": {},
   "outputs": [],
   "source": [
    "#| export\n",
    "class SeasonalExpandingMax(BaseSeasonalExpanding):\n",
    "    \n",
    "    def __init__(self, season_length: int):\n",
    "        super().__init__(ExpandingMax, season_length)"
   ]
  },
  {
   "cell_type": "code",
   "execution_count": null,
   "metadata": {},
   "outputs": [],
   "source": [
    "test_online(SeasonalExpandingMax, seasonal_expanding_max, y, season_length=7)"
   ]
  },
  {
   "cell_type": "markdown",
   "metadata": {},
   "source": [
    "## EWM"
   ]
  },
  {
   "cell_type": "code",
   "execution_count": null,
   "metadata": {},
   "outputs": [],
   "source": [
    "#| export\n",
    "class EWMMean:\n",
    "    \n",
    "    def __init__(self, alpha):\n",
    "        self.alpha = alpha\n",
    "        \n",
    "    def fit_transform(self, x):\n",
    "        mn = ewm_mean(x, self.alpha)\n",
    "        self.smoothed = mn[-1]\n",
    "        return mn\n",
    "    \n",
    "    def update(self, x):\n",
    "        self.smoothed = self.alpha * x + (1 - self.alpha) * self.smoothed\n",
    "        return self.smoothed"
   ]
  },
  {
   "cell_type": "code",
   "execution_count": null,
   "metadata": {},
   "outputs": [],
   "source": [
    "test_online(EWMMean, ewm_mean, y, alpha=0.3)"
   ]
  },
  {
   "cell_type": "markdown",
   "metadata": {},
   "source": [
    "## Shifting"
   ]
  },
  {
   "cell_type": "code",
   "execution_count": null,
   "metadata": {},
   "outputs": [],
   "source": [
    "#| export\n",
    "class Shift:\n",
    "    \n",
    "    def __init__(self, offset: int):\n",
    "        if offset <= 0:\n",
    "            raise ValueError('offset must be positive.')\n",
    "        self.offset = offset\n",
    "        \n",
    "    def fit_transform(self, x: np.ndarray) -> np.ndarray:\n",
    "        self.window = tuple(x[-self.offset:])\n",
    "        return shift_array(x, self.offset)\n",
    "        \n",
    "    def update(self, new: float) -> float:\n",
    "        if len(self.window) < self.offset:\n",
    "            self.window = self.window + (new,)\n",
    "            return np.nan\n",
    "        result = self.window[0]\n",
    "        self.window = self.window[1:] + (new,)\n",
    "        return result"
   ]
  },
  {
   "cell_type": "code",
   "execution_count": null,
   "metadata": {},
   "outputs": [],
   "source": [
    "for offset in (1, 3, 7):\n",
    "    test_online(Shift, shift_array, y, offset=offset, n_updates=2*offset)"
   ]
  }
 ],
 "metadata": {
  "kernelspec": {
   "display_name": "Python 3",
   "language": "python",
   "name": "python3"
  }
 },
 "nbformat": 4,
 "nbformat_minor": 4
}
