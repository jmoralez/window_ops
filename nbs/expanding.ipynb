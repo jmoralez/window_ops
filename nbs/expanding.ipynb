{
 "cells": [
  {
   "cell_type": "raw",
   "metadata": {},
   "source": [
    "---\n",
    "description: Expanding window operations\n",
    "output-file: expanding.html\n",
    "title: Expanding\n",
    "\n",
    "---\n",
    "\n"
   ]
  },
  {
   "cell_type": "code",
   "execution_count": null,
   "metadata": {},
   "outputs": [],
   "source": [
    "#| default_exp expanding"
   ]
  },
  {
   "cell_type": "code",
   "execution_count": null,
   "metadata": {},
   "outputs": [],
   "source": [
    "#| include: false\n",
    "%load_ext autoreload\n",
    "%autoreload 2"
   ]
  },
  {
   "cell_type": "code",
   "execution_count": null,
   "metadata": {},
   "outputs": [],
   "source": [
    "#| include: false\n",
    "import random\n",
    "\n",
    "from nbdev.showdoc import *"
   ]
  },
  {
   "cell_type": "code",
   "execution_count": null,
   "metadata": {},
   "outputs": [],
   "source": [
    "#| export\n",
    "from math import sqrt\n",
    "from typing import Callable, Optional\n",
    "\n",
    "import numpy as np\n",
    "from numba import njit  # type: ignore\n",
    "\n",
    "from window_ops.rolling import *"
   ]
  },
  {
   "cell_type": "code",
   "execution_count": null,
   "metadata": {},
   "outputs": [],
   "source": [
    "import pandas as pd\n",
    "\n",
    "np.random.seed(0)\n",
    "array = np.random.rand(100)\n",
    "series = pd.Series(array)"
   ]
  },
  {
   "cell_type": "code",
   "execution_count": null,
   "metadata": {},
   "outputs": [],
   "source": [
    "#| exporti\n",
    "@njit\n",
    "def _expanding_op(rolling_op: Callable, x: np.ndarray, min_samples: int = 1) -> np.ndarray:\n",
    "    n_samples = x.size\n",
    "    return rolling_op(x, window_size=n_samples, min_samples=min_samples)"
   ]
  },
  {
   "cell_type": "code",
   "execution_count": null,
   "metadata": {},
   "outputs": [],
   "source": [
    "#| export\n",
    "@njit\n",
    "def expanding_mean(x: np.ndarray) -> np.ndarray:\n",
    "    return _expanding_op(rolling_mean, x)"
   ]
  },
  {
   "cell_type": "code",
   "execution_count": null,
   "metadata": {},
   "outputs": [],
   "source": [
    "np.testing.assert_allclose(expanding_mean(array), series.expanding().mean().values)"
   ]
  },
  {
   "cell_type": "code",
   "execution_count": null,
   "metadata": {},
   "outputs": [],
   "source": [
    "#| export\n",
    "@njit\n",
    "def expanding_std(x: np.ndarray) -> np.ndarray:\n",
    "    return _expanding_op(rolling_std, x, min_samples = 2)"
   ]
  },
  {
   "cell_type": "code",
   "execution_count": null,
   "metadata": {},
   "outputs": [],
   "source": [
    "np.testing.assert_allclose(expanding_std(array), series.expanding().std().values)"
   ]
  },
  {
   "cell_type": "code",
   "execution_count": null,
   "metadata": {},
   "outputs": [],
   "source": [
    "#| export\n",
    "@njit\n",
    "def expanding_max(x: np.ndarray) -> np.ndarray:\n",
    "    return _expanding_op(rolling_max, x)"
   ]
  },
  {
   "cell_type": "code",
   "execution_count": null,
   "metadata": {},
   "outputs": [],
   "source": [
    "np.testing.assert_allclose(expanding_max(array), series.expanding().max())"
   ]
  },
  {
   "cell_type": "code",
   "execution_count": null,
   "metadata": {},
   "outputs": [],
   "source": [
    "#| export\n",
    "@njit\n",
    "def expanding_min(x: np.ndarray) -> np.ndarray:\n",
    "    return _expanding_op(rolling_min, x)"
   ]
  },
  {
   "cell_type": "code",
   "execution_count": null,
   "metadata": {},
   "outputs": [],
   "source": [
    "np.testing.assert_allclose(expanding_min(array), series.expanding().min())"
   ]
  },
  {
   "cell_type": "markdown",
   "metadata": {},
   "source": [
    "## Seasonal"
   ]
  },
  {
   "cell_type": "code",
   "execution_count": null,
   "metadata": {},
   "outputs": [],
   "source": [
    "seasons = np.arange(array.size) % 7\n",
    "grouped_series = series.groupby(seasons)"
   ]
  },
  {
   "cell_type": "code",
   "execution_count": null,
   "metadata": {},
   "outputs": [],
   "source": [
    "#| exporti\n",
    "@njit\n",
    "def _seasonal_expanding_op(rolling_op: Callable, x: np.ndarray, season_length: int,\n",
    "                           min_samples: int = 1) -> np.ndarray:\n",
    "    n_samples = x.size\n",
    "    return rolling_op(x, season_length=season_length, window_size=n_samples, min_samples=min_samples)"
   ]
  },
  {
   "cell_type": "code",
   "execution_count": null,
   "metadata": {},
   "outputs": [],
   "source": [
    "#| export\n",
    "@njit\n",
    "def seasonal_expanding_mean(x: np.ndarray, season_length: int) -> np.ndarray:\n",
    "    return _seasonal_expanding_op(seasonal_rolling_mean, x, season_length)"
   ]
  },
  {
   "cell_type": "code",
   "execution_count": null,
   "metadata": {},
   "outputs": [],
   "source": [
    "np.testing.assert_allclose(\n",
    "    seasonal_expanding_mean(array, 7),\n",
    "    grouped_series.transform(lambda y: y.expanding().mean())\n",
    ")"
   ]
  },
  {
   "cell_type": "code",
   "execution_count": null,
   "metadata": {},
   "outputs": [],
   "source": [
    "#| export\n",
    "@njit\n",
    "def seasonal_expanding_std(x: np.ndarray, season_length: int) -> np.ndarray:\n",
    "    return _seasonal_expanding_op(seasonal_rolling_std, x, season_length, min_samples=2)"
   ]
  },
  {
   "cell_type": "code",
   "execution_count": null,
   "metadata": {},
   "outputs": [],
   "source": [
    "np.testing.assert_allclose(\n",
    "    seasonal_expanding_std(array, 7),\n",
    "    grouped_series.transform(lambda y: y.expanding().std())\n",
    ")"
   ]
  },
  {
   "cell_type": "code",
   "execution_count": null,
   "metadata": {},
   "outputs": [],
   "source": [
    "#| export\n",
    "@njit\n",
    "def seasonal_expanding_min(x: np.ndarray, season_length: int):\n",
    "    return _seasonal_expanding_op(seasonal_rolling_min, x, season_length)"
   ]
  },
  {
   "cell_type": "code",
   "execution_count": null,
   "metadata": {},
   "outputs": [],
   "source": [
    "np.testing.assert_allclose(\n",
    "    seasonal_expanding_min(array, 7),\n",
    "    grouped_series.transform(lambda y: y.expanding().min())\n",
    ")"
   ]
  },
  {
   "cell_type": "code",
   "execution_count": null,
   "metadata": {},
   "outputs": [],
   "source": [
    "#| export\n",
    "@njit\n",
    "def seasonal_expanding_max(x: np.ndarray, season_length: int):\n",
    "    return _seasonal_expanding_op(seasonal_rolling_max, x, season_length)"
   ]
  },
  {
   "cell_type": "code",
   "execution_count": null,
   "metadata": {},
   "outputs": [],
   "source": [
    "np.testing.assert_allclose(\n",
    "    seasonal_expanding_min(array, 7),\n",
    "    grouped_series.transform(lambda y: y.expanding().min())\n",
    ")"
   ]
  }
 ],
 "metadata": {
  "kernelspec": {
   "display_name": "Python 3",
   "language": "python",
   "name": "python3"
  }
 },
 "nbformat": 4,
 "nbformat_minor": 4
}
